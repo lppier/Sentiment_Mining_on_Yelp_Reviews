{
 "cells": [
  {
   "cell_type": "markdown",
   "metadata": {},
   "source": [
    "# Preparing the Data"
   ]
  },
  {
   "cell_type": "code",
   "execution_count": 156,
   "metadata": {},
   "outputs": [
    {
     "name": "stdout",
     "output_type": "stream",
     "text": [
      "/Users/pierlim/PycharmProjects/sent_mining_CA\n"
     ]
    }
   ],
   "source": [
    "# Set your working directory\n",
    "from os import getcwd\n",
    "import pandas as pd\n",
    "import numpy as np\n",
    "import pickle as pk\n",
    "from nltk import stem\n",
    "import json\n",
    "import matplotlib.pyplot as plt\n",
    "import os\n",
    "import json\n",
    "\n",
    "fpath = getcwd()\n",
    "print (fpath)"
   ]
  },
  {
   "cell_type": "code",
   "execution_count": 157,
   "metadata": {},
   "outputs": [
    {
     "name": "stdout",
     "output_type": "stream",
     "text": [
      "Total no of reviews 35\n"
     ]
    }
   ],
   "source": [
    "datapath = fpath + '/data/'\n",
    "yjson = json.load(open(datapath + \"yelp_2.json\", \"rb\"))  # there are 35 reviews in this json\n",
    "reviews = {}\n",
    "i=0\n",
    "for key0, val0 in yjson.items():  # keys are 0, 20  etc..\n",
    "    for val in val0[\"review\"]:\n",
    "        reviews[i]= {\"rating\" : val[\"reviewRating\"][\"ratingValue\"],\n",
    "                     \"review\" : val[\"description\"]}\n",
    "        i += 1\n",
    "print (\"Total no of reviews \" + str(len(reviews)))"
   ]
  },
  {
   "cell_type": "markdown",
   "metadata": {},
   "source": [
    "## Collate Scraped Yelp Reviews - Train"
   ]
  },
  {
   "cell_type": "code",
   "execution_count": 158,
   "metadata": {},
   "outputs": [
    {
     "name": "stdout",
     "output_type": "stream",
     "text": [
      "yelp_chinese_3_Wong Kei Restaurant.json\n",
      "yelp_japanese_0_Bone Daddies.json\n",
      "yelp_chinese_2_Hakkasan.json\n",
      "yelp_chinese_0_Yauatcha.json\n",
      "yelp_indian_4_Dishoom.json\n",
      "yelp_chinese_9_Four Seasons.json\n",
      "yelp_chinese_5_Ping Pong.json\n",
      "yelp_french_8_Clos Maggiore.json\n",
      "yelp_chinese_7_Ping Pong Soho.json\n",
      "yelp_french_4_Le Mercury.json\n",
      "yelp_indian_2_Punjab.json\n",
      "yelp_japanese_1_Shoryu Ramen.json\n",
      "yelp_indian_9_The Cinnamon Club.json\n",
      "yelp_indian_6_Roti Chai.json\n",
      "yelp_japanese_3_Nobu.json\n",
      "yelp_japanese_4_Tokyo Diner.json\n",
      "yelp_french_1_Savoir Faire.json\n",
      "yelp_japanese_9_Nobu Berkeley St.json\n",
      "yelp_indian_8_Veeraswamy.json\n",
      "yelp_french_5_Balthazar.json\n",
      "yelp_french_2_Le Relais de Venise L’Entrecôte.json\n",
      "yelp_japanese_7_Kanada-Ya.json\n",
      "yelp_indian_0_Dishoom.json\n",
      "yelp_french_7_Chiltern Firehouse.json\n",
      "Total train data = 5745\n"
     ]
    }
   ],
   "source": [
    "# Read train data (6 restaurants out of 10 restaurants for each category) and collate \n",
    "total_reviews_train = {}\n",
    "directory = './data/train/'\n",
    "\n",
    "for filename in os.listdir(directory):\n",
    "    \n",
    "    if filename.endswith(\".json\"):\n",
    "        print(filename)\n",
    "        yjson = json.load(open(directory + filename, \"rb\")) \n",
    "        reviews = {}\n",
    "        i=0\n",
    "        for key0, val0 in yjson.items():  # keys are 0, 20  etc..\n",
    "            for val in val0[\"review\"]:\n",
    "                reviews[i]= {\"rating\" : val[\"reviewRating\"][\"ratingValue\"],\n",
    "                             \"review\" : val[\"description\"]}\n",
    "                i += 1\n",
    "        if bool(total_reviews_train)==False:\n",
    "            total_reviews_train = dict(reviews)\n",
    "        else:\n",
    "            # need to re-enumerate the numbers here, else it will overwrite the total_reviews by key!\n",
    "            reviews_to_update = {}\n",
    "            cnt = len(total_reviews_train)\n",
    "            for k,v in reviews.items():\n",
    "                reviews_to_update[str(cnt)] = v\n",
    "                cnt = cnt + 1\n",
    "            total_reviews_train.update(reviews_to_update)\n",
    "            #print(total_reviews)\n",
    "            \n",
    "print(\"Total train data = \" + str(len(total_reviews_train)))\n",
    "# with open('train_scraped.json', 'w') as outfile:\n",
    "#     json.dump(total_reviews_train, outfile)"
   ]
  },
  {
   "cell_type": "markdown",
   "metadata": {},
   "source": [
    "## Collate Scraped Yelp Reviews - Test "
   ]
  },
  {
   "cell_type": "code",
   "execution_count": 159,
   "metadata": {},
   "outputs": [
    {
     "name": "stdout",
     "output_type": "stream",
     "text": [
      "yelp_chinese_1_Lanzhou Noodle Bar.json\n",
      "yelp_indian_5_Dishoom.json\n",
      "yelp_chinese_8_Golden Dragon.json\n",
      "yelp_indian_3_Dishoom.json\n",
      "yelp_japanese_5_Zuma.json\n",
      "yelp_japanese_2_Misato.json\n",
      "yelp_french_0_Sketch.json\n",
      "yelp_french_6_L’Atelier de Joël Robuchon.json\n",
      "yelp_french_9_Bar Boulud.json\n",
      "yelp_chinese_6_Joy King Lau.json\n",
      "yelp_japanese_8_Sticks’n’Sushi.json\n",
      "yelp_french_3_Restaurant Gordon Ramsay.json\n",
      "yelp_japanese_6_Roka.json\n",
      "yelp_chinese_4_Dumplings’ Legend.json\n",
      "yelp_indian_1_Tayyabs.json\n",
      "yelp_indian_7_Masala Zone Soho.json\n",
      "Total test data = 3551\n"
     ]
    }
   ],
   "source": [
    "# Read train data (6 restaurants out of 10 restaurants for each category) and collate \n",
    "total_reviews_test = {}\n",
    "directory = './data/test/'\n",
    "\n",
    "for filename in os.listdir(directory):\n",
    "    \n",
    "    if filename.endswith(\".json\"):\n",
    "        print(filename)\n",
    "        yjson = json.load(open(directory + filename, \"rb\")) \n",
    "        reviews = {}\n",
    "        i=0\n",
    "        for key0, val0 in yjson.items():  # keys are 0, 20  etc..\n",
    "            for val in val0[\"review\"]:\n",
    "                reviews[i]= {\"rating\" : val[\"reviewRating\"][\"ratingValue\"],\n",
    "                             \"review\" : val[\"description\"]}\n",
    "                i += 1\n",
    "        if bool(total_reviews_test)==False:\n",
    "            total_reviews_test = dict(reviews)\n",
    "        else:\n",
    "            # need to re-enumerate the numbers here, else it will overwrite the total_reviews by key!\n",
    "            reviews_to_update = {}\n",
    "            cnt = len(total_reviews_test)\n",
    "            for k,v in reviews.items():\n",
    "                reviews_to_update[str(cnt)] = v\n",
    "                cnt = cnt + 1\n",
    "            total_reviews_test.update(reviews_to_update)\n",
    "            #print(total_reviews)\n",
    "            \n",
    "print(\"Total test data = \" + str(len(total_reviews_test)))\n",
    "# with open('test_scraped.json', 'w') as outfile:\n",
    "#     json.dump(total_reviews_test, outfile)"
   ]
  },
  {
   "cell_type": "markdown",
   "metadata": {},
   "source": [
    "## Create the class labels -1 (neg), 1 (pos)\n",
    "Note that we should not use lecturer-supplied train_neg.csv and train_pos.csv as the criteria for -ve and +ve may be different. \n",
    "\n",
    "We need to build our own training set based on what we scraped as well as the yelp_2.json\n",
    "\n",
    "Use the ratings 1-3 as negative and 4-5 as positive in the Yelp reviews."
   ]
  },
  {
   "cell_type": "code",
   "execution_count": 160,
   "metadata": {},
   "outputs": [],
   "source": [
    "def mapPosNegR(score):\n",
    "    rate = 1\n",
    "    if score <= 3: rate = -1   # the result is dependent on the map fn\n",
    "    return rate\n",
    "\n",
    "actuals = []\n",
    "for key, val in total_reviews_train.items():  # going through each review\n",
    "    actuals.append(val['rating'])\n",
    "    \n",
    "actuals = list(map(mapPosNegR, actuals))  # actuals in terms of +1 or -1\n"
   ]
  },
  {
   "cell_type": "code",
   "execution_count": 161,
   "metadata": {},
   "outputs": [],
   "source": [
    "df_reviews_train = pd.DataFrame(total_reviews_train).transpose()\n",
    "df_reviews_train = df_reviews_train.reset_index().drop('index', axis=1)"
   ]
  },
  {
   "cell_type": "code",
   "execution_count": 162,
   "metadata": {},
   "outputs": [],
   "source": [
    "df_actuals = pd.DataFrame(actuals)\n"
   ]
  },
  {
   "cell_type": "code",
   "execution_count": 163,
   "metadata": {},
   "outputs": [],
   "source": [
    "df_reviews_train = pd.concat([df_reviews_train, pd.DataFrame(actuals)], axis=1)\n",
    "#df_reviews.columns = {'rating', 'review', 'sentiment'}\n",
    "#df_reviews_train"
   ]
  },
  {
   "cell_type": "code",
   "execution_count": 164,
   "metadata": {},
   "outputs": [
    {
     "data": {
      "text/html": [
       "<div>\n",
       "<style scoped>\n",
       "    .dataframe tbody tr th:only-of-type {\n",
       "        vertical-align: middle;\n",
       "    }\n",
       "\n",
       "    .dataframe tbody tr th {\n",
       "        vertical-align: top;\n",
       "    }\n",
       "\n",
       "    .dataframe thead th {\n",
       "        text-align: right;\n",
       "    }\n",
       "</style>\n",
       "<table border=\"1\" class=\"dataframe\">\n",
       "  <thead>\n",
       "    <tr style=\"text-align: right;\">\n",
       "      <th></th>\n",
       "      <th>rating</th>\n",
       "      <th>review</th>\n",
       "      <th>sentiment</th>\n",
       "    </tr>\n",
       "  </thead>\n",
       "  <tbody>\n",
       "    <tr>\n",
       "      <th>0</th>\n",
       "      <td>5</td>\n",
       "      <td>In my younger days when lunch choices consiste...</td>\n",
       "      <td>1</td>\n",
       "    </tr>\n",
       "    <tr>\n",
       "      <th>1</th>\n",
       "      <td>3</td>\n",
       "      <td>After going through yelp and tripadvisor, I wa...</td>\n",
       "      <td>-1</td>\n",
       "    </tr>\n",
       "    <tr>\n",
       "      <th>2</th>\n",
       "      <td>5</td>\n",
       "      <td>Ordered Sichuan Prawns and Singapore Rice Nood...</td>\n",
       "      <td>1</td>\n",
       "    </tr>\n",
       "    <tr>\n",
       "      <th>3</th>\n",
       "      <td>3</td>\n",
       "      <td>Wong Kei is one of the many options you'll fin...</td>\n",
       "      <td>-1</td>\n",
       "    </tr>\n",
       "    <tr>\n",
       "      <th>4</th>\n",
       "      <td>1</td>\n",
       "      <td>One of the worst experience in a restaurant in...</td>\n",
       "      <td>-1</td>\n",
       "    </tr>\n",
       "  </tbody>\n",
       "</table>\n",
       "</div>"
      ],
      "text/plain": [
       "  rating                                             review  sentiment\n",
       "0      5  In my younger days when lunch choices consiste...          1\n",
       "1      3  After going through yelp and tripadvisor, I wa...         -1\n",
       "2      5  Ordered Sichuan Prawns and Singapore Rice Nood...          1\n",
       "3      3  Wong Kei is one of the many options you'll fin...         -1\n",
       "4      1  One of the worst experience in a restaurant in...         -1"
      ]
     },
     "execution_count": 164,
     "metadata": {},
     "output_type": "execute_result"
    }
   ],
   "source": [
    "df_reviews_train.rename(columns={0:'sentiment'}, \n",
    "                 inplace=True)\n",
    "df_reviews_train.head()"
   ]
  },
  {
   "cell_type": "markdown",
   "metadata": {},
   "source": [
    "Most reviews here are positive according to our rating criteria: it is an imbalanced set. "
   ]
  },
  {
   "cell_type": "code",
   "execution_count": 165,
   "metadata": {},
   "outputs": [
    {
     "data": {
      "text/html": [
       "<div>\n",
       "<style scoped>\n",
       "    .dataframe tbody tr th:only-of-type {\n",
       "        vertical-align: middle;\n",
       "    }\n",
       "\n",
       "    .dataframe tbody tr th {\n",
       "        vertical-align: top;\n",
       "    }\n",
       "\n",
       "    .dataframe thead th {\n",
       "        text-align: right;\n",
       "    }\n",
       "</style>\n",
       "<table border=\"1\" class=\"dataframe\">\n",
       "  <thead>\n",
       "    <tr style=\"text-align: right;\">\n",
       "      <th></th>\n",
       "      <th>rating</th>\n",
       "      <th>review</th>\n",
       "    </tr>\n",
       "    <tr>\n",
       "      <th>sentiment</th>\n",
       "      <th></th>\n",
       "      <th></th>\n",
       "    </tr>\n",
       "  </thead>\n",
       "  <tbody>\n",
       "    <tr>\n",
       "      <th>-1</th>\n",
       "      <td>3166</td>\n",
       "      <td>After going through yelp and tripadvisor, I wa...</td>\n",
       "    </tr>\n",
       "    <tr>\n",
       "      <th>1</th>\n",
       "      <td>20322</td>\n",
       "      <td>In my younger days when lunch choices consiste...</td>\n",
       "    </tr>\n",
       "  </tbody>\n",
       "</table>\n",
       "</div>"
      ],
      "text/plain": [
       "           rating                                             review\n",
       "sentiment                                                           \n",
       "-1           3166  After going through yelp and tripadvisor, I wa...\n",
       " 1          20322  In my younger days when lunch choices consiste..."
      ]
     },
     "execution_count": 165,
     "metadata": {},
     "output_type": "execute_result"
    }
   ],
   "source": [
    "df_reviews_train.groupby('sentiment').sum()"
   ]
  },
  {
   "cell_type": "code",
   "execution_count": 166,
   "metadata": {},
   "outputs": [
    {
     "data": {
      "text/html": [
       "<div>\n",
       "<style scoped>\n",
       "    .dataframe tbody tr th:only-of-type {\n",
       "        vertical-align: middle;\n",
       "    }\n",
       "\n",
       "    .dataframe tbody tr th {\n",
       "        vertical-align: top;\n",
       "    }\n",
       "\n",
       "    .dataframe thead th {\n",
       "        text-align: right;\n",
       "    }\n",
       "</style>\n",
       "<table border=\"1\" class=\"dataframe\">\n",
       "  <thead>\n",
       "    <tr style=\"text-align: right;\">\n",
       "      <th></th>\n",
       "      <th>rating</th>\n",
       "      <th>review</th>\n",
       "      <th>sentiment</th>\n",
       "    </tr>\n",
       "  </thead>\n",
       "  <tbody>\n",
       "    <tr>\n",
       "      <th>5740</th>\n",
       "      <td>1</td>\n",
       "      <td>If I have to be honest, I have traveled extens...</td>\n",
       "      <td>-1</td>\n",
       "    </tr>\n",
       "    <tr>\n",
       "      <th>5741</th>\n",
       "      <td>2</td>\n",
       "      <td>This place is the worst.  The crowd is old and...</td>\n",
       "      <td>-1</td>\n",
       "    </tr>\n",
       "    <tr>\n",
       "      <th>5742</th>\n",
       "      <td>5</td>\n",
       "      <td>Had an amazing dinner saturday night at Chilte...</td>\n",
       "      <td>1</td>\n",
       "    </tr>\n",
       "    <tr>\n",
       "      <th>5743</th>\n",
       "      <td>5</td>\n",
       "      <td>Excellent food. Great service but rushed a lit...</td>\n",
       "      <td>1</td>\n",
       "    </tr>\n",
       "    <tr>\n",
       "      <th>5744</th>\n",
       "      <td>4</td>\n",
       "      <td>I loved the decor and food but no where in all...</td>\n",
       "      <td>1</td>\n",
       "    </tr>\n",
       "  </tbody>\n",
       "</table>\n",
       "</div>"
      ],
      "text/plain": [
       "     rating                                             review  sentiment\n",
       "5740      1  If I have to be honest, I have traveled extens...         -1\n",
       "5741      2  This place is the worst.  The crowd is old and...         -1\n",
       "5742      5  Had an amazing dinner saturday night at Chilte...          1\n",
       "5743      5  Excellent food. Great service but rushed a lit...          1\n",
       "5744      4  I loved the decor and food but no where in all...          1"
      ]
     },
     "execution_count": 166,
     "metadata": {},
     "output_type": "execute_result"
    }
   ],
   "source": [
    "df_reviews_train.tail()\n"
   ]
  },
  {
   "cell_type": "code",
   "execution_count": 167,
   "metadata": {},
   "outputs": [
    {
     "data": {
      "text/html": [
       "<div>\n",
       "<style scoped>\n",
       "    .dataframe tbody tr th:only-of-type {\n",
       "        vertical-align: middle;\n",
       "    }\n",
       "\n",
       "    .dataframe tbody tr th {\n",
       "        vertical-align: top;\n",
       "    }\n",
       "\n",
       "    .dataframe thead th {\n",
       "        text-align: right;\n",
       "    }\n",
       "</style>\n",
       "<table border=\"1\" class=\"dataframe\">\n",
       "  <thead>\n",
       "    <tr style=\"text-align: right;\">\n",
       "      <th></th>\n",
       "      <th>rating</th>\n",
       "      <th>review</th>\n",
       "      <th>sentiment</th>\n",
       "    </tr>\n",
       "  </thead>\n",
       "  <tbody>\n",
       "    <tr>\n",
       "      <th>0</th>\n",
       "      <td>5</td>\n",
       "      <td>Let's be real here...London...and noodles?? Ye...</td>\n",
       "      <td>1</td>\n",
       "    </tr>\n",
       "    <tr>\n",
       "      <th>1</th>\n",
       "      <td>5</td>\n",
       "      <td>Who goes to London and has Chinese food? Me of...</td>\n",
       "      <td>1</td>\n",
       "    </tr>\n",
       "    <tr>\n",
       "      <th>2</th>\n",
       "      <td>5</td>\n",
       "      <td>My family and I visited London for a few days ...</td>\n",
       "      <td>1</td>\n",
       "    </tr>\n",
       "    <tr>\n",
       "      <th>3</th>\n",
       "      <td>5</td>\n",
       "      <td>This place is so unassuming and very easy to p...</td>\n",
       "      <td>1</td>\n",
       "    </tr>\n",
       "    <tr>\n",
       "      <th>4</th>\n",
       "      <td>3</td>\n",
       "      <td>It's a small and cramped little hole in the wa...</td>\n",
       "      <td>-1</td>\n",
       "    </tr>\n",
       "  </tbody>\n",
       "</table>\n",
       "</div>"
      ],
      "text/plain": [
       "  rating                                             review  sentiment\n",
       "0      5  Let's be real here...London...and noodles?? Ye...          1\n",
       "1      5  Who goes to London and has Chinese food? Me of...          1\n",
       "2      5  My family and I visited London for a few days ...          1\n",
       "3      5  This place is so unassuming and very easy to p...          1\n",
       "4      3  It's a small and cramped little hole in the wa...         -1"
      ]
     },
     "execution_count": 167,
     "metadata": {},
     "output_type": "execute_result"
    }
   ],
   "source": [
    "# now test\n",
    "actuals = []\n",
    "for key, val in total_reviews_test.items():  # going through each review\n",
    "    actuals.append(val['rating'])\n",
    "    \n",
    "actuals = list(map(mapPosNegR, actuals))  # actuals in terms of +1 or -1\n",
    "df_reviews_test = pd.DataFrame(total_reviews_test).transpose()\n",
    "df_reviews_test = df_reviews_test.reset_index().drop('index', axis=1)\n",
    "df_reviews_test = pd.concat([df_reviews_test, pd.DataFrame(actuals)], axis=1)\n",
    "df_reviews_test.rename(columns={0:'sentiment'}, \n",
    "                 inplace=True)\n",
    "df_reviews_test.head()"
   ]
  },
  {
   "cell_type": "code",
   "execution_count": 168,
   "metadata": {},
   "outputs": [
    {
     "data": {
      "text/html": [
       "<div>\n",
       "<style scoped>\n",
       "    .dataframe tbody tr th:only-of-type {\n",
       "        vertical-align: middle;\n",
       "    }\n",
       "\n",
       "    .dataframe tbody tr th {\n",
       "        vertical-align: top;\n",
       "    }\n",
       "\n",
       "    .dataframe thead th {\n",
       "        text-align: right;\n",
       "    }\n",
       "</style>\n",
       "<table border=\"1\" class=\"dataframe\">\n",
       "  <thead>\n",
       "    <tr style=\"text-align: right;\">\n",
       "      <th></th>\n",
       "      <th>rating</th>\n",
       "      <th>review</th>\n",
       "    </tr>\n",
       "    <tr>\n",
       "      <th>sentiment</th>\n",
       "      <th></th>\n",
       "      <th></th>\n",
       "    </tr>\n",
       "  </thead>\n",
       "  <tbody>\n",
       "    <tr>\n",
       "      <th>-1</th>\n",
       "      <td>2019</td>\n",
       "      <td>It's a small and cramped little hole in the wa...</td>\n",
       "    </tr>\n",
       "    <tr>\n",
       "      <th>1</th>\n",
       "      <td>12370</td>\n",
       "      <td>Let's be real here...London...and noodles?? Ye...</td>\n",
       "    </tr>\n",
       "  </tbody>\n",
       "</table>\n",
       "</div>"
      ],
      "text/plain": [
       "           rating                                             review\n",
       "sentiment                                                           \n",
       "-1           2019  It's a small and cramped little hole in the wa...\n",
       " 1          12370  Let's be real here...London...and noodles?? Ye..."
      ]
     },
     "execution_count": 168,
     "metadata": {},
     "output_type": "execute_result"
    }
   ],
   "source": [
    "df_reviews_test.groupby('sentiment').sum()"
   ]
  },
  {
   "cell_type": "code",
   "execution_count": 169,
   "metadata": {},
   "outputs": [],
   "source": [
    "\n",
    "df_reviews_train.to_csv('./data/df_reviews_train.csv', index=False)\n",
    "df_reviews_test.to_csv('./data/df_reviews_test.csv', index=False)"
   ]
  },
  {
   "cell_type": "code",
   "execution_count": null,
   "metadata": {},
   "outputs": [],
   "source": []
  }
 ],
 "metadata": {
  "kernelspec": {
   "display_name": "Python [conda env:tensorflow]",
   "language": "python",
   "name": "conda-env-tensorflow-py"
  },
  "language_info": {
   "codemirror_mode": {
    "name": "ipython",
    "version": 3
   },
   "file_extension": ".py",
   "mimetype": "text/x-python",
   "name": "python",
   "nbconvert_exporter": "python",
   "pygments_lexer": "ipython3",
   "version": "3.6.6"
  }
 },
 "nbformat": 4,
 "nbformat_minor": 2
}
