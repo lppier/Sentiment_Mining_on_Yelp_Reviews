{
 "cells": [
  {
   "cell_type": "markdown",
   "metadata": {},
   "source": [
    "# Preparing the Data"
   ]
  },
  {
   "cell_type": "code",
   "execution_count": 1,
   "metadata": {},
   "outputs": [
    {
     "name": "stdout",
     "output_type": "stream",
     "text": [
      "/Users/pierlim/PycharmProjects/sent_mining_CA\n"
     ]
    }
   ],
   "source": [
    "# Set your working directory\n",
    "from os import getcwd\n",
    "import pandas as pd\n",
    "import numpy as np\n",
    "import pickle as pk\n",
    "from nltk import stem\n",
    "import json\n",
    "import matplotlib.pyplot as plt\n",
    "\n",
    "fpath = getcwd()\n",
    "print (fpath)"
   ]
  },
  {
   "cell_type": "code",
   "execution_count": 3,
   "metadata": {},
   "outputs": [
    {
     "name": "stdout",
     "output_type": "stream",
     "text": [
      "Total no of reviews 35\n"
     ]
    }
   ],
   "source": [
    "datapath = fpath + '/data/'\n",
    "yjson = json.load(open(datapath + \"yelp_2.json\", \"rb\"))  # there are 35 reviews in this json\n",
    "reviews = {}\n",
    "i=0\n",
    "for key0, val0 in yjson.items():  # keys are 0, 20  etc..\n",
    "    for val in val0[\"review\"]:\n",
    "        reviews[i]= {\"rating\" : val[\"reviewRating\"][\"ratingValue\"],\n",
    "                     \"review\" : val[\"description\"]}\n",
    "        i += 1\n",
    "print (\"Total no of reviews \" + str(len(reviews)))"
   ]
  },
  {
   "cell_type": "markdown",
   "metadata": {},
   "source": [
    "## Reading Scraped Yelp Reviews "
   ]
  },
  {
   "cell_type": "code",
   "execution_count": 41,
   "metadata": {},
   "outputs": [],
   "source": [
    "# TODO repeat the above for scraped reviews, then combined both to create a combined dictionary. "
   ]
  },
  {
   "cell_type": "markdown",
   "metadata": {},
   "source": [
    "## Create the class labels -1 (neg), 1 (pos)\n",
    "Note that we should not use lecturer-supplied train_neg.csv and train_pos.csv as the criteria for -ve and +ve may be different. \n",
    "\n",
    "We need to build our own training set based on what we scraped as well as the yelp_2.json\n",
    "\n",
    "Use the ratings 1-3 as negative and 4-5 as positive in the Yelp reviews."
   ]
  },
  {
   "cell_type": "code",
   "execution_count": 26,
   "metadata": {},
   "outputs": [],
   "source": [
    "def mapPosNegR(score):\n",
    "    rate = 1\n",
    "    if score <= 3: rate = -1   # the result is dependent on the map fn\n",
    "    return rate\n",
    "\n",
    "actuals = []\n",
    "for key, val in reviews.items():  # going through each review\n",
    "    actuals.append(val['rating'])\n",
    "    \n",
    "actuals = list(map(mapPosNegR, actuals))  # actuals in terms of +1 or -1"
   ]
  },
  {
   "cell_type": "code",
   "execution_count": 27,
   "metadata": {},
   "outputs": [],
   "source": [
    "df_reviews = pd.DataFrame(reviews).transpose()"
   ]
  },
  {
   "cell_type": "code",
   "execution_count": 28,
   "metadata": {},
   "outputs": [],
   "source": [
    "df_reviews = pd.concat([df_reviews, pd.DataFrame(actuals)], axis=1)\n",
    "#df_reviews.columns = {'rating', 'review', 'sentiment'}"
   ]
  },
  {
   "cell_type": "code",
   "execution_count": 30,
   "metadata": {},
   "outputs": [
    {
     "data": {
      "text/html": [
       "<div>\n",
       "<style scoped>\n",
       "    .dataframe tbody tr th:only-of-type {\n",
       "        vertical-align: middle;\n",
       "    }\n",
       "\n",
       "    .dataframe tbody tr th {\n",
       "        vertical-align: top;\n",
       "    }\n",
       "\n",
       "    .dataframe thead th {\n",
       "        text-align: right;\n",
       "    }\n",
       "</style>\n",
       "<table border=\"1\" class=\"dataframe\">\n",
       "  <thead>\n",
       "    <tr style=\"text-align: right;\">\n",
       "      <th></th>\n",
       "      <th>rating</th>\n",
       "      <th>review</th>\n",
       "      <th>sentiment</th>\n",
       "    </tr>\n",
       "  </thead>\n",
       "  <tbody>\n",
       "    <tr>\n",
       "      <th>0</th>\n",
       "      <td>5</td>\n",
       "      <td>The service at Sushi Bar was great with an ext...</td>\n",
       "      <td>1</td>\n",
       "    </tr>\n",
       "    <tr>\n",
       "      <th>1</th>\n",
       "      <td>2</td>\n",
       "      <td>OMG Yelp let me down big time.  I don't know h...</td>\n",
       "      <td>-1</td>\n",
       "    </tr>\n",
       "    <tr>\n",
       "      <th>2</th>\n",
       "      <td>4</td>\n",
       "      <td>Heard that this was the best sushi joint in Si...</td>\n",
       "      <td>1</td>\n",
       "    </tr>\n",
       "    <tr>\n",
       "      <th>3</th>\n",
       "      <td>3</td>\n",
       "      <td>Ebi fry salmon Aburizal ($17.90++) - 3 stars\\n...</td>\n",
       "      <td>-1</td>\n",
       "    </tr>\n",
       "    <tr>\n",
       "      <th>4</th>\n",
       "      <td>5</td>\n",
       "      <td>Yes I also get the raving reviews now.\\nWe dec...</td>\n",
       "      <td>1</td>\n",
       "    </tr>\n",
       "  </tbody>\n",
       "</table>\n",
       "</div>"
      ],
      "text/plain": [
       "  rating                                             review  sentiment\n",
       "0      5  The service at Sushi Bar was great with an ext...          1\n",
       "1      2  OMG Yelp let me down big time.  I don't know h...         -1\n",
       "2      4  Heard that this was the best sushi joint in Si...          1\n",
       "3      3  Ebi fry salmon Aburizal ($17.90++) - 3 stars\\n...         -1\n",
       "4      5  Yes I also get the raving reviews now.\\nWe dec...          1"
      ]
     },
     "execution_count": 30,
     "metadata": {},
     "output_type": "execute_result"
    }
   ],
   "source": [
    "df_reviews.rename(columns={0:'sentiment'}, \n",
    "                 inplace=True)\n",
    "df_reviews.head()"
   ]
  },
  {
   "cell_type": "markdown",
   "metadata": {},
   "source": [
    "Most reviews here are positive according to our rating criteria: it is an imbalanced set. "
   ]
  },
  {
   "cell_type": "code",
   "execution_count": 38,
   "metadata": {},
   "outputs": [
    {
     "data": {
      "text/html": [
       "<div>\n",
       "<style scoped>\n",
       "    .dataframe tbody tr th:only-of-type {\n",
       "        vertical-align: middle;\n",
       "    }\n",
       "\n",
       "    .dataframe tbody tr th {\n",
       "        vertical-align: top;\n",
       "    }\n",
       "\n",
       "    .dataframe thead th {\n",
       "        text-align: right;\n",
       "    }\n",
       "</style>\n",
       "<table border=\"1\" class=\"dataframe\">\n",
       "  <thead>\n",
       "    <tr style=\"text-align: right;\">\n",
       "      <th></th>\n",
       "      <th>rating</th>\n",
       "      <th>review</th>\n",
       "    </tr>\n",
       "    <tr>\n",
       "      <th>sentiment</th>\n",
       "      <th></th>\n",
       "      <th></th>\n",
       "    </tr>\n",
       "  </thead>\n",
       "  <tbody>\n",
       "    <tr>\n",
       "      <th>-1</th>\n",
       "      <td>11</td>\n",
       "      <td>OMG Yelp let me down big time.  I don't know h...</td>\n",
       "    </tr>\n",
       "    <tr>\n",
       "      <th>1</th>\n",
       "      <td>141</td>\n",
       "      <td>The service at Sushi Bar was great with an ext...</td>\n",
       "    </tr>\n",
       "  </tbody>\n",
       "</table>\n",
       "</div>"
      ],
      "text/plain": [
       "           rating                                             review\n",
       "sentiment                                                           \n",
       "-1             11  OMG Yelp let me down big time.  I don't know h...\n",
       " 1            141  The service at Sushi Bar was great with an ext..."
      ]
     },
     "execution_count": 38,
     "metadata": {},
     "output_type": "execute_result"
    }
   ],
   "source": [
    "df_reviews.groupby('sentiment').sum()"
   ]
  },
  {
   "cell_type": "code",
   "execution_count": 43,
   "metadata": {},
   "outputs": [],
   "source": [
    "df_reviews\n",
    "df_reviews.to_csv('./data/df_reviews.csv', index=False) # TODO this needs to be updated with scraped data \n"
   ]
  },
  {
   "cell_type": "code",
   "execution_count": null,
   "metadata": {},
   "outputs": [],
   "source": []
  }
 ],
 "metadata": {
  "kernelspec": {
   "display_name": "Python [conda env:tensorflow]",
   "language": "python",
   "name": "conda-env-tensorflow-py"
  },
  "language_info": {
   "codemirror_mode": {
    "name": "ipython",
    "version": 3
   },
   "file_extension": ".py",
   "mimetype": "text/x-python",
   "name": "python",
   "nbconvert_exporter": "python",
   "pygments_lexer": "ipython3",
   "version": "3.6.6"
  }
 },
 "nbformat": 4,
 "nbformat_minor": 2
}
