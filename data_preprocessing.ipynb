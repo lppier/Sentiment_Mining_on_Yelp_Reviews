{
 "cells": [
  {
   "cell_type": "markdown",
   "metadata": {},
   "source": [
    "## Data Preprocessing\n",
    "Additional work before we send the csv to the classifiers.\n"
   ]
  },
  {
   "cell_type": "code",
   "execution_count": 30,
   "metadata": {},
   "outputs": [
    {
     "name": "stdout",
     "output_type": "stream",
     "text": [
      "/Users/Jill/Documents/New Media and Sentiment Analysis/CA/EB5204_Sentiment_Mining_CA\r\n"
     ]
    }
   ],
   "source": [
    "!pwd\n",
    "import pandas as pd\n",
    "import string\n",
    "import nltk\n",
    "from nltk.corpus import stopwords\n",
    "from nltk import word_tokenize, WordNetLemmatizer, bigrams, trigrams\n",
    "from nltk import stem, pos_tag\n",
    "from nltk.corpus import wordnet as wn\n",
    "import wordcloud\n",
    "from wordcloud import WordCloud, ImageColorGenerator\n",
    "import matplotlib.pyplot as plt\n",
    "from collections import Counter\n",
    "import numpy as np\n",
    "from PIL import Image\n",
    "import seaborn as sns\n",
    "from sklearn.feature_extraction.text import CountVectorizer, TfidfVectorizer"
   ]
  },
  {
   "cell_type": "code",
   "execution_count": 31,
   "metadata": {},
   "outputs": [
    {
     "data": {
      "text/html": [
       "<div>\n",
       "<style scoped>\n",
       "    .dataframe tbody tr th:only-of-type {\n",
       "        vertical-align: middle;\n",
       "    }\n",
       "\n",
       "    .dataframe tbody tr th {\n",
       "        vertical-align: top;\n",
       "    }\n",
       "\n",
       "    .dataframe thead th {\n",
       "        text-align: right;\n",
       "    }\n",
       "</style>\n",
       "<table border=\"1\" class=\"dataframe\">\n",
       "  <thead>\n",
       "    <tr style=\"text-align: right;\">\n",
       "      <th></th>\n",
       "      <th>rating</th>\n",
       "      <th>review</th>\n",
       "      <th>sentiment</th>\n",
       "    </tr>\n",
       "  </thead>\n",
       "  <tbody>\n",
       "    <tr>\n",
       "      <th>0</th>\n",
       "      <td>5</td>\n",
       "      <td>In my younger days when lunch choices consiste...</td>\n",
       "      <td>1</td>\n",
       "    </tr>\n",
       "    <tr>\n",
       "      <th>1</th>\n",
       "      <td>3</td>\n",
       "      <td>After going through yelp and tripadvisor, I wa...</td>\n",
       "      <td>-1</td>\n",
       "    </tr>\n",
       "    <tr>\n",
       "      <th>2</th>\n",
       "      <td>5</td>\n",
       "      <td>Ordered Sichuan Prawns and Singapore Rice Nood...</td>\n",
       "      <td>1</td>\n",
       "    </tr>\n",
       "    <tr>\n",
       "      <th>3</th>\n",
       "      <td>3</td>\n",
       "      <td>Wong Kei is one of the many options you'll fin...</td>\n",
       "      <td>-1</td>\n",
       "    </tr>\n",
       "    <tr>\n",
       "      <th>4</th>\n",
       "      <td>1</td>\n",
       "      <td>One of the worst experience in a restaurant in...</td>\n",
       "      <td>-1</td>\n",
       "    </tr>\n",
       "  </tbody>\n",
       "</table>\n",
       "</div>"
      ],
      "text/plain": [
       "   rating                                             review  sentiment\n",
       "0       5  In my younger days when lunch choices consiste...          1\n",
       "1       3  After going through yelp and tripadvisor, I wa...         -1\n",
       "2       5  Ordered Sichuan Prawns and Singapore Rice Nood...          1\n",
       "3       3  Wong Kei is one of the many options you'll fin...         -1\n",
       "4       1  One of the worst experience in a restaurant in...         -1"
      ]
     },
     "execution_count": 31,
     "metadata": {},
     "output_type": "execute_result"
    }
   ],
   "source": [
    "df = pd.read_csv('./data/df_reviews_train.csv')\n",
    "df.head()"
   ]
  },
  {
   "cell_type": "code",
   "execution_count": 32,
   "metadata": {},
   "outputs": [],
   "source": [
    "stop = stopwords.words('english')\n",
    "snowball = stem.snowball.EnglishStemmer()\n",
    "wnl = WordNetLemmatizer()"
   ]
  },
  {
   "cell_type": "code",
   "execution_count": 33,
   "metadata": {},
   "outputs": [
    {
     "name": "stdout",
     "output_type": "stream",
     "text": [
      "Distribution of the Classes in the subsample dataset\n",
      " 1    0.5\n",
      "-1    0.5\n",
      "Name: sentiment, dtype: float64\n"
     ]
    },
    {
     "data": {
      "image/png": "[encoded data removed]",
      "text/plain": [
       "<Figure size 432x288 with 1 Axes>"
      ]
     },
     "metadata": {
      "needs_background": "light"
     },
     "output_type": "display_data"
    }
   ],
   "source": [
    "# Random Sampling\n",
    "neg_df = df.loc[df['sentiment'] == -1]\n",
    "pos_df = df.loc[df['sentiment'] == 1][:len(neg_df)]\n",
    "sampled_df = pd.concat([neg_df, pos_df])\n",
    "sampled_df = sampled_df.sample(frac=1, random_state=42)\n",
    "print('Distribution of the Classes in the subsample dataset')\n",
    "print(sampled_df['sentiment'].value_counts()/len(sampled_df))\n",
    "colors = [\"#0101DF\", \"#DF0101\"]\n",
    "sns.countplot('sentiment', data=sampled_df, palette=colors)\n",
    "plt.title('Equally Distributed Sentiments', fontsize=14)\n",
    "plt.show()\n",
    "\n",
    "sampled_df.to_csv('/Users/Jill/Documents/New Media and Sentiment Analysis/CA/EB5204_Sentiment_Mining_CA/data/df_downsampled.csv')"
   ]
  },
  {
   "cell_type": "code",
   "execution_count": 34,
   "metadata": {},
   "outputs": [],
   "source": [
    "reviews = sampled_df['review']\n",
    "ratings = sampled_df['rating']\n",
    "sentiments = sampled_df['sentiment']"
   ]
  },
  {
   "cell_type": "code",
   "execution_count": 35,
   "metadata": {},
   "outputs": [],
   "source": [
    "# Remove all the punctuations and numbers\n",
    "def removePunc(reviews):\n",
    "    comwoPunc = str.maketrans({key: None for key in string.punctuation\n",
    "                               + string.digits})\n",
    "    for i in reviews.keys():\n",
    "        comment = reviews.loc[i]\n",
    "        reviewswoPunc = reviews.replace(comment, comment.translate(comwoPunc))\n",
    "    return reviewswoPunc"
   ]
  },
  {
   "cell_type": "code",
   "execution_count": 36,
   "metadata": {},
   "outputs": [],
   "source": [
    "# Convert all characters to Lower case\n",
    "def convToLow(words):\n",
    "    reviewsToLow = words.apply(str.lower)\n",
    "    return reviewsToLow"
   ]
  },
  {
   "cell_type": "code",
   "execution_count": 37,
   "metadata": {},
   "outputs": [],
   "source": [
    "# Stopwords removal\n",
    "def removeStop(text, stop):\n",
    "    for i in text.keys():\n",
    "        comment = text.loc[i]\n",
    "        comment_nostop = \" \".join(filter(lambda word: word not in stop,\n",
    "                                     comment.split()))\n",
    "        reviewswoStop = text.replace(comment, comment_nostop)\n",
    "    return reviewswoStop"
   ]
  },
  {
   "cell_type": "code",
   "execution_count": 38,
   "metadata": {},
   "outputs": [],
   "source": [
    "# Tokenization\n",
    "def token(text):\n",
    "    reviewsToken = text.apply(word_tokenize)\n",
    "    return reviewsToken"
   ]
  },
  {
   "cell_type": "code",
   "execution_count": 39,
   "metadata": {},
   "outputs": [],
   "source": [
    "# pos tagging\n",
    "def posTag(words):\n",
    "    reviews_pos = words.apply(pos_tag)\n",
    "    reviews_wnpos = []\n",
    "    for i in reviews_pos.keys():\n",
    "        comment = reviews_pos.loc[i]\n",
    "        comment_wnpos = []\n",
    "        for t in comment:\n",
    "            t = list(t)\n",
    "            tag = t[1]\n",
    "            if t[1].startswith('J'):\n",
    "                t[1] = wn.ADJ\n",
    "            elif t[1].startswith('V'):\n",
    "                t[1] = wn.VERB\n",
    "            elif t[1].startswith('N'):\n",
    "                t[1] = wn.NOUN\n",
    "            elif t[1].startswith('R'):\n",
    "                t[1] = wn.ADV\n",
    "            else:\n",
    "                del t\n",
    "                t = None\n",
    "            if t is not None:\n",
    "                comment_wnpos.append(t)\n",
    "            else:\n",
    "                pass\n",
    "        reviews_wnpos.append(comment_wnpos)\n",
    "    reviews_wnpos = pd.Series(reviews_wnpos, index=reviews_pos.keys())\n",
    "    return reviews_wnpos"
   ]
  },
  {
   "cell_type": "code",
   "execution_count": 40,
   "metadata": {},
   "outputs": [],
   "source": [
    "# Lemmatization\n",
    "def lemma(text, wnl):\n",
    "    reviews_lem = []\n",
    "    for i in text.keys():\n",
    "        comment = text.loc[i]\n",
    "        comment_lem = []\n",
    "        for t in comment:\n",
    "            word = t[0]\n",
    "            tag = t[1]\n",
    "            t = wnl.lemmatize(word, pos=tag)\n",
    "            comment_lem.append(t)\n",
    "        reviews_lem.append(comment_lem)\n",
    "    allReviews = []\n",
    "    for j in reviews_lem:\n",
    "        reviews = ' '.join(j)\n",
    "        allReviews.append(reviews)\n",
    "    reviewsLemma = pd.Series(allReviews, index=reviews_wnpos.keys())\n",
    "    return reviewsLemma"
   ]
  },
  {
   "cell_type": "code",
   "execution_count": 42,
   "metadata": {},
   "outputs": [],
   "source": [
    "if __name__  == 'main':\n",
    "    reviews = removePunc(reviews)\n",
    "    reviews = convToLow(reviews)\n",
    "    reviews = removeStop(reviews)\n",
    "    reviews = token(reviews)\n",
    "    reviews = posTag(reviews)\n",
    "    final_reviews = lemma(reviews)\n",
    "    final_reviews.to_csv('/Users/Jill/Documents/New Media and Sentiment Analysis/CA/EB5204_Sentiment_Mining_CA/data/df_preprocessing.csv', encoding='utf-8')"
   ]
  },
  {
   "cell_type": "code",
   "execution_count": null,
   "metadata": {},
   "outputs": [],
   "source": []
  }
 ],
 "metadata": {
  "kernelspec": {
   "display_name": "Python 3",
   "language": "python",
   "name": "python3"
  },
  "language_info": {
   "codemirror_mode": {
    "name": "ipython",
    "version": 3
   },
   "file_extension": ".py",
   "mimetype": "text/x-python",
   "name": "python",
   "nbconvert_exporter": "python",
   "pygments_lexer": "ipython3",
   "version": "3.7.0"
  }
 },
 "nbformat": 4,
 "nbformat_minor": 2
}
