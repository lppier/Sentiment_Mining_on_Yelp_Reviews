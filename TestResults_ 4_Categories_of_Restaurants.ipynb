{
 "cells": [
  {
   "cell_type": "code",
   "execution_count": 160,
   "metadata": {},
   "outputs": [
    {
     "name": "stdout",
     "output_type": "stream",
     "text": [
      "/Users/songyuhan/Documents/EB5204_Sentiment_Mining_CA\r\n"
     ]
    }
   ],
   "source": [
    "!pwd\n",
    "import pickle as pk\n",
    "import pandas as pd\n",
    "from sklearn.feature_extraction.text import TfidfVectorizer\n",
    "from sklearn.metrics import classification_report, confusion_matrix\n",
    "from sklearn.metrics import accuracy_score"
   ]
  },
  {
   "cell_type": "code",
   "execution_count": 161,
   "metadata": {},
   "outputs": [],
   "source": [
    "##using for generating report later\n",
    "\n",
    "def classification_report_csv(report, csv_name):\n",
    "    report_data = []\n",
    "    lines = report.split('\\n')\n",
    "    for line in lines[2:-3]:\n",
    "        row = {}\n",
    "        row_data = line.split(' ') \n",
    "        row_data = list(filter(None, row_data))\n",
    "        row['class'] = row_data[0]\n",
    "        row['precision'] = float(row_data[1])\n",
    "        row['recall'] = float(row_data[2])\n",
    "        row['f1_score'] = float(row_data[3])\n",
    "        row['support'] = float(row_data[4])\n",
    "        report_data.append(row)\n",
    "    dataframe = pd.DataFrame.from_dict(report_data)\n",
    "    dataframe.to_csv(csv_name, index = False)\n"
   ]
  },
  {
   "cell_type": "markdown",
   "metadata": {},
   "source": [
    "## get test data from csv file"
   ]
  },
  {
   "cell_type": "code",
   "execution_count": 169,
   "metadata": {},
   "outputs": [
    {
     "data": {
      "text/html": [
       "<div>\n",
       "<style scoped>\n",
       "    .dataframe tbody tr th:only-of-type {\n",
       "        vertical-align: middle;\n",
       "    }\n",
       "\n",
       "    .dataframe tbody tr th {\n",
       "        vertical-align: top;\n",
       "    }\n",
       "\n",
       "    .dataframe thead th {\n",
       "        text-align: right;\n",
       "    }\n",
       "</style>\n",
       "<table border=\"1\" class=\"dataframe\">\n",
       "  <thead>\n",
       "    <tr style=\"text-align: right;\">\n",
       "      <th></th>\n",
       "      <th>Unnamed: 0</th>\n",
       "      <th>rating</th>\n",
       "      <th>review</th>\n",
       "      <th>sentiment</th>\n",
       "    </tr>\n",
       "  </thead>\n",
       "  <tbody>\n",
       "    <tr>\n",
       "      <th>0</th>\n",
       "      <td>0</td>\n",
       "      <td>5</td>\n",
       "      <td>let be real here london noodle alright let go ...</td>\n",
       "      <td>1</td>\n",
       "    </tr>\n",
       "    <tr>\n",
       "      <th>1</th>\n",
       "      <td>1</td>\n",
       "      <td>5</td>\n",
       "      <td>go london have chinese food course i 've be lo...</td>\n",
       "      <td>1</td>\n",
       "    </tr>\n",
       "    <tr>\n",
       "      <th>2</th>\n",
       "      <td>2</td>\n",
       "      <td>5</td>\n",
       "      <td>family i visit london few day be look nice noo...</td>\n",
       "      <td>1</td>\n",
       "    </tr>\n",
       "    <tr>\n",
       "      <th>3</th>\n",
       "      <td>3</td>\n",
       "      <td>5</td>\n",
       "      <td>place be so unassuming very easy pass look bad...</td>\n",
       "      <td>1</td>\n",
       "    </tr>\n",
       "    <tr>\n",
       "      <th>4</th>\n",
       "      <td>4</td>\n",
       "      <td>3</td>\n",
       "      <td>'s small cramped little hole wall noodle be ha...</td>\n",
       "      <td>-1</td>\n",
       "    </tr>\n",
       "  </tbody>\n",
       "</table>\n",
       "</div>"
      ],
      "text/plain": [
       "   Unnamed: 0  rating                                             review  \\\n",
       "0           0       5  let be real here london noodle alright let go ...   \n",
       "1           1       5  go london have chinese food course i 've be lo...   \n",
       "2           2       5  family i visit london few day be look nice noo...   \n",
       "3           3       5  place be so unassuming very easy pass look bad...   \n",
       "4           4       3  's small cramped little hole wall noodle be ha...   \n",
       "\n",
       "   sentiment  \n",
       "0          1  \n",
       "1          1  \n",
       "2          1  \n",
       "3          1  \n",
       "4         -1  "
      ]
     },
     "execution_count": 169,
     "metadata": {},
     "output_type": "execute_result"
    }
   ],
   "source": [
    "dfCN = pd.read_csv('./data/df_test_chinese_with_negation.csv',encoding =\"ISO-8859-1\")\n",
    "dfFR = pd.read_csv('./data/df_test_french_with_negation.csv',encoding = 'ISO-8859-1')\n",
    "dfIN = pd.read_csv('./data/df_test_indian_with_negation.csv',encoding = 'ISO-8859-1')\n",
    "dfJP = pd.read_csv('./data/df_test_japanese_with_negation.csv',encoding = 'ISO-8859-1')\n",
    "dfCN.head()\n"
   ]
  },
  {
   "cell_type": "code",
   "execution_count": 170,
   "metadata": {},
   "outputs": [
    {
     "data": {
      "text/html": [
       "<div>\n",
       "<style scoped>\n",
       "    .dataframe tbody tr th:only-of-type {\n",
       "        vertical-align: middle;\n",
       "    }\n",
       "\n",
       "    .dataframe tbody tr th {\n",
       "        vertical-align: top;\n",
       "    }\n",
       "\n",
       "    .dataframe thead th {\n",
       "        text-align: right;\n",
       "    }\n",
       "</style>\n",
       "<table border=\"1\" class=\"dataframe\">\n",
       "  <thead>\n",
       "    <tr style=\"text-align: right;\">\n",
       "      <th></th>\n",
       "      <th>review</th>\n",
       "      <th>sentiment</th>\n",
       "    </tr>\n",
       "  </thead>\n",
       "  <tbody>\n",
       "    <tr>\n",
       "      <th>0</th>\n",
       "      <td>be back july make point return zuma food be st...</td>\n",
       "      <td>1</td>\n",
       "    </tr>\n",
       "    <tr>\n",
       "      <th>1</th>\n",
       "      <td>zuma have maintain 's consistency food quality...</td>\n",
       "      <td>1</td>\n",
       "    </tr>\n",
       "    <tr>\n",
       "      <th>2</th>\n",
       "      <td>sushi dish here be spectacular black cod be so...</td>\n",
       "      <td>1</td>\n",
       "    </tr>\n",
       "    <tr>\n",
       "      <th>3</th>\n",
       "      <td>short over-rated.i apologize i 'm gong be brut...</td>\n",
       "      <td>-1</td>\n",
       "    </tr>\n",
       "    <tr>\n",
       "      <th>4</th>\n",
       "      <td>cool / fancy place have great japanese food ev...</td>\n",
       "      <td>1</td>\n",
       "    </tr>\n",
       "  </tbody>\n",
       "</table>\n",
       "</div>"
      ],
      "text/plain": [
       "                                              review  sentiment\n",
       "0  be back july make point return zuma food be st...          1\n",
       "1  zuma have maintain 's consistency food quality...          1\n",
       "2  sushi dish here be spectacular black cod be so...          1\n",
       "3  short over-rated.i apologize i 'm gong be brut...         -1\n",
       "4  cool / fancy place have great japanese food ev...          1"
      ]
     },
     "execution_count": 170,
     "metadata": {},
     "output_type": "execute_result"
    }
   ],
   "source": [
    "dfCN.drop(['Unnamed: 0', 'rating'], inplace=True, axis=1)\n",
    "dfFR.drop(['Unnamed: 0', 'rating'], inplace=True, axis=1)\n",
    "dfIN.drop(['Unnamed: 0','rating'], inplace=True, axis=1)\n",
    "dfJP.drop(['Unnamed: 0','rating'], inplace=True, axis=1)\n",
    "#dfJP.drop(['category', 'id', 'name', 'rating'], inplace=True, axis=1)\n",
    "dfJP.head()"
   ]
  },
  {
   "cell_type": "code",
   "execution_count": 171,
   "metadata": {},
   "outputs": [
    {
     "name": "stdout",
     "output_type": "stream",
     "text": [
      "Chinese Resturant : 650\n",
      "French Resturant : 980\n",
      "Indian Resturant : 1369\n",
      "Japanese Resturant : 552\n"
     ]
    }
   ],
   "source": [
    "testCN = dfCN['review']\n",
    "testFR = dfFR['review']\n",
    "testIN = dfIN['review']\n",
    "testJP = dfJP['review']\n",
    "testCN_lab = dfCN['sentiment']\n",
    "testFR_lab = dfFR['sentiment']\n",
    "testIN_lab = dfIN['sentiment']\n",
    "testJP_lab = dfJP['sentiment']\n",
    "print(\"Chinese Resturant :\",len(testCN_lab))\n",
    "print(\"French Resturant :\",len(testFR_lab))\n",
    "print(\"Indian Resturant :\",len(testIN_lab))\n",
    "print(\"Japanese Resturant :\",len(testJP_lab))"
   ]
  },
  {
   "cell_type": "markdown",
   "metadata": {},
   "source": [
    "## testing result using model only trained by scraped data"
   ]
  },
  {
   "cell_type": "markdown",
   "metadata": {},
   "source": [
    "### firstly ,need to change the test data to the same dimention as the training data"
   ]
  },
  {
   "cell_type": "code",
   "execution_count": 172,
   "metadata": {},
   "outputs": [
    {
     "name": "stdout",
     "output_type": "stream",
     "text": [
      "(650, 17423)\n",
      "(980, 17423)\n",
      "(1369, 17423)\n",
      "(552, 17423)\n"
     ]
    }
   ],
   "source": [
    "with open('./models/preprocessed_negated/vectorise_negation.pk', 'rb') as vectorizer:\n",
    "    vectorizer = pk.load(vectorizer)\n",
    "test_vectorsCN = vectorizer.transform(testCN)\n",
    "test_vectorsFR = vectorizer.transform(testFR)\n",
    "test_vectorsIN = vectorizer.transform(testIN)\n",
    "test_vectorsJP = vectorizer.transform(testJP)\n",
    "print(test_vectorsCN.shape)\n",
    "print(test_vectorsFR.shape)\n",
    "print(test_vectorsIN.shape)\n",
    "print(test_vectorsJP.shape)"
   ]
  },
  {
   "cell_type": "markdown",
   "metadata": {},
   "source": [
    "### secondly, check the 4 kinds of resturants test score using Naive Bayes and SVM classifier"
   ]
  },
  {
   "cell_type": "code",
   "execution_count": 173,
   "metadata": {},
   "outputs": [],
   "source": [
    "# load naivebayes\n",
    "with open('./models/preprocessed_negated/classifier_negation_naivebayes.pk', 'rb') as naivebayes:\n",
    "    model1 = pk.load(naivebayes)\n",
    "    predCN_na = model1.predict(test_vectorsCN)\n",
    "    predFR_na = model1.predict(test_vectorsFR)\n",
    "    predIN_na = model1.predict(test_vectorsIN)\n",
    "    predJP_na = model1.predict(test_vectorsJP)\n",
    "    predCN_na = list(predCN_na)\n",
    "    predFR_na = list(predFR_na)\n",
    "    predIN_na = list(predIN_na)\n",
    "    predJP_na = list(predJP_na)\n",
    "    cmCN_na = pd.crosstab(pd.Series(testCN_lab), pd.Series(predCN_na), rownames= ['actuals'], colnames=['pred'],margins=True)\n",
    "    cmFR_na = pd.crosstab(pd.Series(testFR_lab), pd.Series(predFR_na), rownames= ['actuals'], colnames=['pred'],margins=True)\n",
    "    cmIN_na = pd.crosstab(pd.Series(testIN_lab), pd.Series(predIN_na), rownames= ['actuals'], colnames=['pred'],margins=True)\n",
    "    cmJP_na = pd.crosstab(pd.Series(testJP_lab), pd.Series(predJP_na), rownames= ['actuals'], colnames=['pred'],margins=True)"
   ]
  },
  {
   "cell_type": "code",
   "execution_count": 174,
   "metadata": {},
   "outputs": [
    {
     "data": {
      "text/html": [
       "<div>\n",
       "<style scoped>\n",
       "    .dataframe tbody tr th:only-of-type {\n",
       "        vertical-align: middle;\n",
       "    }\n",
       "\n",
       "    .dataframe tbody tr th {\n",
       "        vertical-align: top;\n",
       "    }\n",
       "\n",
       "    .dataframe thead th {\n",
       "        text-align: right;\n",
       "    }\n",
       "</style>\n",
       "<table border=\"1\" class=\"dataframe\">\n",
       "  <thead>\n",
       "    <tr style=\"text-align: right;\">\n",
       "      <th>pred</th>\n",
       "      <th>-1</th>\n",
       "      <th>1</th>\n",
       "      <th>All</th>\n",
       "    </tr>\n",
       "    <tr>\n",
       "      <th>actuals</th>\n",
       "      <th></th>\n",
       "      <th></th>\n",
       "      <th></th>\n",
       "    </tr>\n",
       "  </thead>\n",
       "  <tbody>\n",
       "    <tr>\n",
       "      <th>-1</th>\n",
       "      <td>153</td>\n",
       "      <td>85</td>\n",
       "      <td>238</td>\n",
       "    </tr>\n",
       "    <tr>\n",
       "      <th>1</th>\n",
       "      <td>40</td>\n",
       "      <td>372</td>\n",
       "      <td>412</td>\n",
       "    </tr>\n",
       "    <tr>\n",
       "      <th>All</th>\n",
       "      <td>193</td>\n",
       "      <td>457</td>\n",
       "      <td>650</td>\n",
       "    </tr>\n",
       "  </tbody>\n",
       "</table>\n",
       "</div>"
      ],
      "text/plain": [
       "pred      -1    1  All\n",
       "actuals               \n",
       "-1       153   85  238\n",
       "1         40  372  412\n",
       "All      193  457  650"
      ]
     },
     "execution_count": 174,
     "metadata": {},
     "output_type": "execute_result"
    }
   ],
   "source": [
    "#chinese resturant\n",
    "cmCN_na"
   ]
  },
  {
   "cell_type": "code",
   "execution_count": 175,
   "metadata": {},
   "outputs": [
    {
     "name": "stdout",
     "output_type": "stream",
     "text": [
      "             precision    recall  f1-score   support\n",
      "\n",
      "         -1       0.64      0.79      0.71       193\n",
      "          1       0.90      0.81      0.86       457\n",
      "\n",
      "avg / total       0.83      0.81      0.81       650\n",
      "\n",
      "0.8076923076923077\n"
     ]
    }
   ],
   "source": [
    "print (classification_report(predCN_na,  testCN_lab))\n",
    "print (accuracy_score(predCN_na, testCN_lab))"
   ]
  },
  {
   "cell_type": "code",
   "execution_count": 176,
   "metadata": {},
   "outputs": [],
   "source": [
    "pd.DataFrame(cmCN_na).to_csv('Chinese_naive_bayes.csv')\n",
    "report = classification_report(predCN_na, testCN_lab)\n",
    "classification_report_csv(report,'Chinese_naive_bayes_report.csv')"
   ]
  },
  {
   "cell_type": "code",
   "execution_count": 177,
   "metadata": {},
   "outputs": [],
   "source": [
    "Chinese_nb_result = pd.Series(predCN_na)"
   ]
  },
  {
   "cell_type": "code",
   "execution_count": 178,
   "metadata": {},
   "outputs": [
    {
     "data": {
      "text/html": [
       "<div>\n",
       "<style scoped>\n",
       "    .dataframe tbody tr th:only-of-type {\n",
       "        vertical-align: middle;\n",
       "    }\n",
       "\n",
       "    .dataframe tbody tr th {\n",
       "        vertical-align: top;\n",
       "    }\n",
       "\n",
       "    .dataframe thead th {\n",
       "        text-align: right;\n",
       "    }\n",
       "</style>\n",
       "<table border=\"1\" class=\"dataframe\">\n",
       "  <thead>\n",
       "    <tr style=\"text-align: right;\">\n",
       "      <th>pred</th>\n",
       "      <th>-1</th>\n",
       "      <th>1</th>\n",
       "      <th>All</th>\n",
       "    </tr>\n",
       "    <tr>\n",
       "      <th>actuals</th>\n",
       "      <th></th>\n",
       "      <th></th>\n",
       "      <th></th>\n",
       "    </tr>\n",
       "  </thead>\n",
       "  <tbody>\n",
       "    <tr>\n",
       "      <th>-1</th>\n",
       "      <td>153</td>\n",
       "      <td>65</td>\n",
       "      <td>218</td>\n",
       "    </tr>\n",
       "    <tr>\n",
       "      <th>1</th>\n",
       "      <td>46</td>\n",
       "      <td>716</td>\n",
       "      <td>762</td>\n",
       "    </tr>\n",
       "    <tr>\n",
       "      <th>All</th>\n",
       "      <td>199</td>\n",
       "      <td>781</td>\n",
       "      <td>980</td>\n",
       "    </tr>\n",
       "  </tbody>\n",
       "</table>\n",
       "</div>"
      ],
      "text/plain": [
       "pred      -1    1  All\n",
       "actuals               \n",
       "-1       153   65  218\n",
       "1         46  716  762\n",
       "All      199  781  980"
      ]
     },
     "execution_count": 178,
     "metadata": {},
     "output_type": "execute_result"
    }
   ],
   "source": [
    "#French resturant\n",
    "cmFR_na"
   ]
  },
  {
   "cell_type": "code",
   "execution_count": 179,
   "metadata": {},
   "outputs": [
    {
     "name": "stdout",
     "output_type": "stream",
     "text": [
      "             precision    recall  f1-score   support\n",
      "\n",
      "         -1       0.70      0.77      0.73       199\n",
      "          1       0.94      0.92      0.93       781\n",
      "\n",
      "avg / total       0.89      0.89      0.89       980\n",
      "\n",
      "0.886734693877551\n"
     ]
    }
   ],
   "source": [
    "print (classification_report(predFR_na,  testFR_lab))\n",
    "print (accuracy_score(predFR_na, testFR_lab))"
   ]
  },
  {
   "cell_type": "code",
   "execution_count": 180,
   "metadata": {},
   "outputs": [],
   "source": [
    "pd.DataFrame(cmFR_na).to_csv('French_naive_bayes.csv')\n",
    "report = classification_report(predFR_na, testFR_lab)\n",
    "classification_report_csv(report,'French_naive_bayes_report.csv')"
   ]
  },
  {
   "cell_type": "code",
   "execution_count": 181,
   "metadata": {},
   "outputs": [],
   "source": [
    "French_nb_result = pd.Series(predFR_na)"
   ]
  },
  {
   "cell_type": "code",
   "execution_count": 182,
   "metadata": {},
   "outputs": [
    {
     "data": {
      "text/html": [
       "<div>\n",
       "<style scoped>\n",
       "    .dataframe tbody tr th:only-of-type {\n",
       "        vertical-align: middle;\n",
       "    }\n",
       "\n",
       "    .dataframe tbody tr th {\n",
       "        vertical-align: top;\n",
       "    }\n",
       "\n",
       "    .dataframe thead th {\n",
       "        text-align: right;\n",
       "    }\n",
       "</style>\n",
       "<table border=\"1\" class=\"dataframe\">\n",
       "  <thead>\n",
       "    <tr style=\"text-align: right;\">\n",
       "      <th>pred</th>\n",
       "      <th>-1</th>\n",
       "      <th>1</th>\n",
       "      <th>All</th>\n",
       "    </tr>\n",
       "    <tr>\n",
       "      <th>actuals</th>\n",
       "      <th></th>\n",
       "      <th></th>\n",
       "      <th></th>\n",
       "    </tr>\n",
       "  </thead>\n",
       "  <tbody>\n",
       "    <tr>\n",
       "      <th>-1</th>\n",
       "      <td>139</td>\n",
       "      <td>129</td>\n",
       "      <td>268</td>\n",
       "    </tr>\n",
       "    <tr>\n",
       "      <th>1</th>\n",
       "      <td>40</td>\n",
       "      <td>1061</td>\n",
       "      <td>1101</td>\n",
       "    </tr>\n",
       "    <tr>\n",
       "      <th>All</th>\n",
       "      <td>179</td>\n",
       "      <td>1190</td>\n",
       "      <td>1369</td>\n",
       "    </tr>\n",
       "  </tbody>\n",
       "</table>\n",
       "</div>"
      ],
      "text/plain": [
       "pred      -1     1   All\n",
       "actuals                 \n",
       "-1       139   129   268\n",
       "1         40  1061  1101\n",
       "All      179  1190  1369"
      ]
     },
     "execution_count": 182,
     "metadata": {},
     "output_type": "execute_result"
    }
   ],
   "source": [
    "#Indian resturant\n",
    "cmIN_na"
   ]
  },
  {
   "cell_type": "code",
   "execution_count": 183,
   "metadata": {},
   "outputs": [
    {
     "name": "stdout",
     "output_type": "stream",
     "text": [
      "             precision    recall  f1-score   support\n",
      "\n",
      "         -1       0.52      0.78      0.62       179\n",
      "          1       0.96      0.89      0.93      1190\n",
      "\n",
      "avg / total       0.91      0.88      0.89      1369\n",
      "\n",
      "0.8765522279035792\n"
     ]
    }
   ],
   "source": [
    "print (classification_report(predIN_na,  testIN_lab))\n",
    "print (accuracy_score(predIN_na, testIN_lab))"
   ]
  },
  {
   "cell_type": "code",
   "execution_count": 184,
   "metadata": {},
   "outputs": [],
   "source": [
    "pd.DataFrame(cmIN_na).to_csv('Indian_naive_bayes.csv')\n",
    "report = classification_report(predIN_na, testIN_lab)\n",
    "classification_report_csv(report,'Indian_naive_bayes_report.csv')"
   ]
  },
  {
   "cell_type": "code",
   "execution_count": 185,
   "metadata": {},
   "outputs": [],
   "source": [
    "Indian_nb_result = pd.Series(predIN_na)"
   ]
  },
  {
   "cell_type": "code",
   "execution_count": 186,
   "metadata": {},
   "outputs": [
    {
     "data": {
      "text/html": [
       "<div>\n",
       "<style scoped>\n",
       "    .dataframe tbody tr th:only-of-type {\n",
       "        vertical-align: middle;\n",
       "    }\n",
       "\n",
       "    .dataframe tbody tr th {\n",
       "        vertical-align: top;\n",
       "    }\n",
       "\n",
       "    .dataframe thead th {\n",
       "        text-align: right;\n",
       "    }\n",
       "</style>\n",
       "<table border=\"1\" class=\"dataframe\">\n",
       "  <thead>\n",
       "    <tr style=\"text-align: right;\">\n",
       "      <th>pred</th>\n",
       "      <th>-1</th>\n",
       "      <th>1</th>\n",
       "      <th>All</th>\n",
       "    </tr>\n",
       "    <tr>\n",
       "      <th>actuals</th>\n",
       "      <th></th>\n",
       "      <th></th>\n",
       "      <th></th>\n",
       "    </tr>\n",
       "  </thead>\n",
       "  <tbody>\n",
       "    <tr>\n",
       "      <th>-1</th>\n",
       "      <td>88</td>\n",
       "      <td>36</td>\n",
       "      <td>124</td>\n",
       "    </tr>\n",
       "    <tr>\n",
       "      <th>1</th>\n",
       "      <td>39</td>\n",
       "      <td>389</td>\n",
       "      <td>428</td>\n",
       "    </tr>\n",
       "    <tr>\n",
       "      <th>All</th>\n",
       "      <td>127</td>\n",
       "      <td>425</td>\n",
       "      <td>552</td>\n",
       "    </tr>\n",
       "  </tbody>\n",
       "</table>\n",
       "</div>"
      ],
      "text/plain": [
       "pred      -1    1  All\n",
       "actuals               \n",
       "-1        88   36  124\n",
       "1         39  389  428\n",
       "All      127  425  552"
      ]
     },
     "execution_count": 186,
     "metadata": {},
     "output_type": "execute_result"
    }
   ],
   "source": [
    "#Japanese resturant\n",
    "cmJP_na"
   ]
  },
  {
   "cell_type": "code",
   "execution_count": 187,
   "metadata": {},
   "outputs": [
    {
     "name": "stdout",
     "output_type": "stream",
     "text": [
      "             precision    recall  f1-score   support\n",
      "\n",
      "         -1       0.71      0.69      0.70       127\n",
      "          1       0.91      0.92      0.91       425\n",
      "\n",
      "avg / total       0.86      0.86      0.86       552\n",
      "\n",
      "0.8641304347826086\n"
     ]
    }
   ],
   "source": [
    "print (classification_report(predJP_na,  testJP_lab))\n",
    "print (accuracy_score(predJP_na, testJP_lab))"
   ]
  },
  {
   "cell_type": "code",
   "execution_count": 188,
   "metadata": {},
   "outputs": [],
   "source": [
    "pd.DataFrame(cmJP_na).to_csv('Janpanese_naive_bayes.csv')\n",
    "report = classification_report(predJP_na, testJP_lab)\n",
    "classification_report_csv(report,'Japanese_naive_bayes_report.csv')"
   ]
  },
  {
   "cell_type": "code",
   "execution_count": 189,
   "metadata": {},
   "outputs": [],
   "source": [
    "Japanese_nb_result = pd.Series(predJP_na)"
   ]
  },
  {
   "cell_type": "code",
   "execution_count": 190,
   "metadata": {},
   "outputs": [],
   "source": [
    "# load SVM\n",
    "with open('./models/preprocessed_negated/classifier_negation_svm.pk', 'rb') as svm:\n",
    "    model2 = pk.load(svm)\n",
    "    predCN_svm = model2.predict(test_vectorsCN)\n",
    "    predFR_svm = model2.predict(test_vectorsFR)\n",
    "    predIN_svm = model2.predict(test_vectorsIN)\n",
    "    predJP_svm = model2.predict(test_vectorsJP)\n",
    "    predCN_svm = list(predCN_svm)\n",
    "    predFR_svm = list(predFR_svm)\n",
    "    predIN_svm = list(predIN_svm)\n",
    "    predJP_svm = list(predJP_svm)\n",
    "    cmCN_svm = pd.crosstab(pd.Series(testCN_lab), pd.Series(predCN_svm), rownames= ['actuals'], colnames=['pred'],margins=True)\n",
    "    cmFR_svm = pd.crosstab(pd.Series(testFR_lab), pd.Series(predFR_svm), rownames= ['actuals'], colnames=['pred'],margins=True)\n",
    "    cmIN_svm = pd.crosstab(pd.Series(testIN_lab), pd.Series(predIN_svm), rownames= ['actuals'], colnames=['pred'],margins=True)\n",
    "    cmJP_svm = pd.crosstab(pd.Series(testJP_lab), pd.Series(predJP_svm), rownames= ['actuals'], colnames=['pred'],margins=True)"
   ]
  },
  {
   "cell_type": "code",
   "execution_count": 191,
   "metadata": {},
   "outputs": [
    {
     "data": {
      "text/html": [
       "<div>\n",
       "<style scoped>\n",
       "    .dataframe tbody tr th:only-of-type {\n",
       "        vertical-align: middle;\n",
       "    }\n",
       "\n",
       "    .dataframe tbody tr th {\n",
       "        vertical-align: top;\n",
       "    }\n",
       "\n",
       "    .dataframe thead th {\n",
       "        text-align: right;\n",
       "    }\n",
       "</style>\n",
       "<table border=\"1\" class=\"dataframe\">\n",
       "  <thead>\n",
       "    <tr style=\"text-align: right;\">\n",
       "      <th>pred</th>\n",
       "      <th>-1</th>\n",
       "      <th>1</th>\n",
       "      <th>All</th>\n",
       "    </tr>\n",
       "    <tr>\n",
       "      <th>actuals</th>\n",
       "      <th></th>\n",
       "      <th></th>\n",
       "      <th></th>\n",
       "    </tr>\n",
       "  </thead>\n",
       "  <tbody>\n",
       "    <tr>\n",
       "      <th>-1</th>\n",
       "      <td>190</td>\n",
       "      <td>48</td>\n",
       "      <td>238</td>\n",
       "    </tr>\n",
       "    <tr>\n",
       "      <th>1</th>\n",
       "      <td>58</td>\n",
       "      <td>354</td>\n",
       "      <td>412</td>\n",
       "    </tr>\n",
       "    <tr>\n",
       "      <th>All</th>\n",
       "      <td>248</td>\n",
       "      <td>402</td>\n",
       "      <td>650</td>\n",
       "    </tr>\n",
       "  </tbody>\n",
       "</table>\n",
       "</div>"
      ],
      "text/plain": [
       "pred      -1    1  All\n",
       "actuals               \n",
       "-1       190   48  238\n",
       "1         58  354  412\n",
       "All      248  402  650"
      ]
     },
     "execution_count": 191,
     "metadata": {},
     "output_type": "execute_result"
    }
   ],
   "source": [
    "#Chinese resturant\n",
    "cmCN_svm"
   ]
  },
  {
   "cell_type": "code",
   "execution_count": 192,
   "metadata": {},
   "outputs": [
    {
     "name": "stdout",
     "output_type": "stream",
     "text": [
      "             precision    recall  f1-score   support\n",
      "\n",
      "         -1       0.80      0.77      0.78       248\n",
      "          1       0.86      0.88      0.87       402\n",
      "\n",
      "avg / total       0.84      0.84      0.84       650\n",
      "\n",
      "0.8369230769230769\n"
     ]
    }
   ],
   "source": [
    "print (classification_report(predCN_svm,  testCN_lab))\n",
    "print (accuracy_score(predCN_svm, testCN_lab))"
   ]
  },
  {
   "cell_type": "code",
   "execution_count": 193,
   "metadata": {},
   "outputs": [],
   "source": [
    "pd.DataFrame(cmCN_svm).to_csv('Chinese_svm.csv')\n",
    "report = classification_report(predCN_svm, testCN_lab)\n",
    "classification_report_csv(report,'Chinese_svm_report.csv')"
   ]
  },
  {
   "cell_type": "code",
   "execution_count": 194,
   "metadata": {},
   "outputs": [],
   "source": [
    "Chinese_svm_result = pd.Series(predCN_svm)"
   ]
  },
  {
   "cell_type": "code",
   "execution_count": 195,
   "metadata": {},
   "outputs": [
    {
     "data": {
      "text/html": [
       "<div>\n",
       "<style scoped>\n",
       "    .dataframe tbody tr th:only-of-type {\n",
       "        vertical-align: middle;\n",
       "    }\n",
       "\n",
       "    .dataframe tbody tr th {\n",
       "        vertical-align: top;\n",
       "    }\n",
       "\n",
       "    .dataframe thead th {\n",
       "        text-align: right;\n",
       "    }\n",
       "</style>\n",
       "<table border=\"1\" class=\"dataframe\">\n",
       "  <thead>\n",
       "    <tr style=\"text-align: right;\">\n",
       "      <th>pred</th>\n",
       "      <th>-1</th>\n",
       "      <th>1</th>\n",
       "      <th>All</th>\n",
       "    </tr>\n",
       "    <tr>\n",
       "      <th>actuals</th>\n",
       "      <th></th>\n",
       "      <th></th>\n",
       "      <th></th>\n",
       "    </tr>\n",
       "  </thead>\n",
       "  <tbody>\n",
       "    <tr>\n",
       "      <th>-1</th>\n",
       "      <td>168</td>\n",
       "      <td>50</td>\n",
       "      <td>218</td>\n",
       "    </tr>\n",
       "    <tr>\n",
       "      <th>1</th>\n",
       "      <td>79</td>\n",
       "      <td>683</td>\n",
       "      <td>762</td>\n",
       "    </tr>\n",
       "    <tr>\n",
       "      <th>All</th>\n",
       "      <td>247</td>\n",
       "      <td>733</td>\n",
       "      <td>980</td>\n",
       "    </tr>\n",
       "  </tbody>\n",
       "</table>\n",
       "</div>"
      ],
      "text/plain": [
       "pred      -1    1  All\n",
       "actuals               \n",
       "-1       168   50  218\n",
       "1         79  683  762\n",
       "All      247  733  980"
      ]
     },
     "execution_count": 195,
     "metadata": {},
     "output_type": "execute_result"
    }
   ],
   "source": [
    "#French resturant\n",
    "cmFR_svm"
   ]
  },
  {
   "cell_type": "code",
   "execution_count": 196,
   "metadata": {},
   "outputs": [
    {
     "name": "stdout",
     "output_type": "stream",
     "text": [
      "             precision    recall  f1-score   support\n",
      "\n",
      "         -1       0.77      0.68      0.72       247\n",
      "          1       0.90      0.93      0.91       733\n",
      "\n",
      "avg / total       0.86      0.87      0.87       980\n",
      "\n",
      "0.8683673469387755\n"
     ]
    }
   ],
   "source": [
    "print (classification_report(predFR_svm,  testFR_lab))\n",
    "print (accuracy_score(predFR_svm, testFR_lab))"
   ]
  },
  {
   "cell_type": "code",
   "execution_count": 197,
   "metadata": {},
   "outputs": [],
   "source": [
    "pd.DataFrame(cmFR_svm).to_csv('French_svm.csv')\n",
    "report = classification_report(predFR_svm, testFR_lab)\n",
    "classification_report_csv(report,'French_svm_report.csv')"
   ]
  },
  {
   "cell_type": "code",
   "execution_count": 198,
   "metadata": {},
   "outputs": [],
   "source": [
    "French_svm_result = pd.Series(predFR_svm)"
   ]
  },
  {
   "cell_type": "code",
   "execution_count": 199,
   "metadata": {},
   "outputs": [
    {
     "data": {
      "text/html": [
       "<div>\n",
       "<style scoped>\n",
       "    .dataframe tbody tr th:only-of-type {\n",
       "        vertical-align: middle;\n",
       "    }\n",
       "\n",
       "    .dataframe tbody tr th {\n",
       "        vertical-align: top;\n",
       "    }\n",
       "\n",
       "    .dataframe thead th {\n",
       "        text-align: right;\n",
       "    }\n",
       "</style>\n",
       "<table border=\"1\" class=\"dataframe\">\n",
       "  <thead>\n",
       "    <tr style=\"text-align: right;\">\n",
       "      <th>pred</th>\n",
       "      <th>-1</th>\n",
       "      <th>1</th>\n",
       "      <th>All</th>\n",
       "    </tr>\n",
       "    <tr>\n",
       "      <th>actuals</th>\n",
       "      <th></th>\n",
       "      <th></th>\n",
       "      <th></th>\n",
       "    </tr>\n",
       "  </thead>\n",
       "  <tbody>\n",
       "    <tr>\n",
       "      <th>-1</th>\n",
       "      <td>199</td>\n",
       "      <td>69</td>\n",
       "      <td>268</td>\n",
       "    </tr>\n",
       "    <tr>\n",
       "      <th>1</th>\n",
       "      <td>65</td>\n",
       "      <td>1036</td>\n",
       "      <td>1101</td>\n",
       "    </tr>\n",
       "    <tr>\n",
       "      <th>All</th>\n",
       "      <td>264</td>\n",
       "      <td>1105</td>\n",
       "      <td>1369</td>\n",
       "    </tr>\n",
       "  </tbody>\n",
       "</table>\n",
       "</div>"
      ],
      "text/plain": [
       "pred      -1     1   All\n",
       "actuals                 \n",
       "-1       199    69   268\n",
       "1         65  1036  1101\n",
       "All      264  1105  1369"
      ]
     },
     "execution_count": 199,
     "metadata": {},
     "output_type": "execute_result"
    }
   ],
   "source": [
    "#India resturant\n",
    "cmIN_svm"
   ]
  },
  {
   "cell_type": "code",
   "execution_count": 200,
   "metadata": {},
   "outputs": [
    {
     "name": "stdout",
     "output_type": "stream",
     "text": [
      "             precision    recall  f1-score   support\n",
      "\n",
      "         -1       0.74      0.75      0.75       264\n",
      "          1       0.94      0.94      0.94      1105\n",
      "\n",
      "avg / total       0.90      0.90      0.90      1369\n",
      "\n",
      "0.902118334550767\n"
     ]
    }
   ],
   "source": [
    "print (classification_report(predIN_svm,  testIN_lab))\n",
    "print (accuracy_score(predIN_svm, testIN_lab))"
   ]
  },
  {
   "cell_type": "code",
   "execution_count": 201,
   "metadata": {},
   "outputs": [],
   "source": [
    "pd.DataFrame(cmIN_svm).to_csv('Indian_svm.csv')\n",
    "report = classification_report(predIN_svm, testIN_lab)\n",
    "classification_report_csv(report,'Indian_svm_report.csv')"
   ]
  },
  {
   "cell_type": "code",
   "execution_count": 202,
   "metadata": {},
   "outputs": [],
   "source": [
    "Indian_svm_result = pd.Series(predIN_svm)"
   ]
  },
  {
   "cell_type": "code",
   "execution_count": 203,
   "metadata": {},
   "outputs": [
    {
     "data": {
      "text/html": [
       "<div>\n",
       "<style scoped>\n",
       "    .dataframe tbody tr th:only-of-type {\n",
       "        vertical-align: middle;\n",
       "    }\n",
       "\n",
       "    .dataframe tbody tr th {\n",
       "        vertical-align: top;\n",
       "    }\n",
       "\n",
       "    .dataframe thead th {\n",
       "        text-align: right;\n",
       "    }\n",
       "</style>\n",
       "<table border=\"1\" class=\"dataframe\">\n",
       "  <thead>\n",
       "    <tr style=\"text-align: right;\">\n",
       "      <th>pred</th>\n",
       "      <th>-1</th>\n",
       "      <th>1</th>\n",
       "      <th>All</th>\n",
       "    </tr>\n",
       "    <tr>\n",
       "      <th>actuals</th>\n",
       "      <th></th>\n",
       "      <th></th>\n",
       "      <th></th>\n",
       "    </tr>\n",
       "  </thead>\n",
       "  <tbody>\n",
       "    <tr>\n",
       "      <th>-1</th>\n",
       "      <td>99</td>\n",
       "      <td>25</td>\n",
       "      <td>124</td>\n",
       "    </tr>\n",
       "    <tr>\n",
       "      <th>1</th>\n",
       "      <td>43</td>\n",
       "      <td>385</td>\n",
       "      <td>428</td>\n",
       "    </tr>\n",
       "    <tr>\n",
       "      <th>All</th>\n",
       "      <td>142</td>\n",
       "      <td>410</td>\n",
       "      <td>552</td>\n",
       "    </tr>\n",
       "  </tbody>\n",
       "</table>\n",
       "</div>"
      ],
      "text/plain": [
       "pred      -1    1  All\n",
       "actuals               \n",
       "-1        99   25  124\n",
       "1         43  385  428\n",
       "All      142  410  552"
      ]
     },
     "execution_count": 203,
     "metadata": {},
     "output_type": "execute_result"
    }
   ],
   "source": [
    "#Japanese resturant\n",
    "cmJP_svm"
   ]
  },
  {
   "cell_type": "code",
   "execution_count": 204,
   "metadata": {},
   "outputs": [
    {
     "name": "stdout",
     "output_type": "stream",
     "text": [
      "             precision    recall  f1-score   support\n",
      "\n",
      "         -1       0.80      0.70      0.74       142\n",
      "          1       0.90      0.94      0.92       410\n",
      "\n",
      "avg / total       0.87      0.88      0.87       552\n",
      "\n",
      "0.8768115942028986\n"
     ]
    }
   ],
   "source": [
    "print (classification_report(predJP_svm,  testJP_lab))\n",
    "print (accuracy_score(predJP_svm, testJP_lab))"
   ]
  },
  {
   "cell_type": "code",
   "execution_count": 205,
   "metadata": {},
   "outputs": [],
   "source": [
    "pd.DataFrame(cmJP_svm).to_csv('Japanese_svm.csv')\n",
    "report = classification_report(predJP_svm, testJP_lab)\n",
    "classification_report_csv(report,'Japanese_svm_report.csv')"
   ]
  },
  {
   "cell_type": "code",
   "execution_count": 206,
   "metadata": {},
   "outputs": [],
   "source": [
    "Japanese_svm_result = pd.Series(predJP_svm)"
   ]
  },
  {
   "cell_type": "markdown",
   "metadata": {},
   "source": [
    "### load all the result to csv file"
   ]
  },
  {
   "cell_type": "code",
   "execution_count": 207,
   "metadata": {},
   "outputs": [],
   "source": [
    "df_result = pd.concat([pd.Series(testCN_lab), Chinese_nb_result, Chinese_svm_result], keys=[\"actual\", \"nb\", \"svm\"], axis=1)\n",
    "df_result.to_csv('Chinese_result.csv')"
   ]
  },
  {
   "cell_type": "code",
   "execution_count": 208,
   "metadata": {},
   "outputs": [],
   "source": [
    "df_result = pd.concat([pd.Series(testFR_lab), French_nb_result, French_svm_result], keys=[\"actual\", \"nb\", \"svm\"], axis=1)\n",
    "df_result.to_csv('French_result.csv')"
   ]
  },
  {
   "cell_type": "code",
   "execution_count": 209,
   "metadata": {},
   "outputs": [],
   "source": [
    "df_result = pd.concat([pd.Series(testIN_lab), Indian_nb_result, Indian_svm_result], keys=[\"actual\", \"nb\", \"svm\"], axis=1)\n",
    "df_result.to_csv('Indian_result.csv')"
   ]
  },
  {
   "cell_type": "code",
   "execution_count": 210,
   "metadata": {},
   "outputs": [],
   "source": [
    "df_result = pd.concat([pd.Series(testJP_lab), Japanese_nb_result, Japanese_svm_result], keys=[\"actual\", \"nb\", \"svm\"], axis=1)\n",
    "df_result.to_csv('Japanese_result.csv')"
   ]
  },
  {
   "cell_type": "code",
   "execution_count": 237,
   "metadata": {},
   "outputs": [
    {
     "data": {
      "text/html": [
       "<div>\n",
       "<style scoped>\n",
       "    .dataframe tbody tr th:only-of-type {\n",
       "        vertical-align: middle;\n",
       "    }\n",
       "\n",
       "    .dataframe tbody tr th {\n",
       "        vertical-align: top;\n",
       "    }\n",
       "\n",
       "    .dataframe thead th {\n",
       "        text-align: right;\n",
       "    }\n",
       "</style>\n",
       "<table border=\"1\" class=\"dataframe\">\n",
       "  <thead>\n",
       "    <tr style=\"text-align: right;\">\n",
       "      <th></th>\n",
       "      <th>category</th>\n",
       "      <th>id</th>\n",
       "      <th>name</th>\n",
       "      <th>rating</th>\n",
       "      <th>review</th>\n",
       "      <th>sentiment</th>\n",
       "    </tr>\n",
       "  </thead>\n",
       "  <tbody>\n",
       "    <tr>\n",
       "      <th>0</th>\n",
       "      <td>chinese</td>\n",
       "      <td>VZqEzifhvtYAxkWw6AuiCg</td>\n",
       "      <td>Lanzhou Noodle Bar</td>\n",
       "      <td>5</td>\n",
       "      <td>Let's be real here...London...and noodles?? Ye...</td>\n",
       "      <td>1</td>\n",
       "    </tr>\n",
       "    <tr>\n",
       "      <th>1</th>\n",
       "      <td>chinese</td>\n",
       "      <td>VZqEzifhvtYAxkWw6AuiCg</td>\n",
       "      <td>Lanzhou Noodle Bar</td>\n",
       "      <td>5</td>\n",
       "      <td>Who goes to London and has Chinese food? Me of...</td>\n",
       "      <td>1</td>\n",
       "    </tr>\n",
       "    <tr>\n",
       "      <th>2</th>\n",
       "      <td>chinese</td>\n",
       "      <td>VZqEzifhvtYAxkWw6AuiCg</td>\n",
       "      <td>Lanzhou Noodle Bar</td>\n",
       "      <td>5</td>\n",
       "      <td>My family and I visited London for a few days ...</td>\n",
       "      <td>1</td>\n",
       "    </tr>\n",
       "    <tr>\n",
       "      <th>3</th>\n",
       "      <td>chinese</td>\n",
       "      <td>VZqEzifhvtYAxkWw6AuiCg</td>\n",
       "      <td>Lanzhou Noodle Bar</td>\n",
       "      <td>5</td>\n",
       "      <td>This place is so unassuming and very easy to p...</td>\n",
       "      <td>1</td>\n",
       "    </tr>\n",
       "    <tr>\n",
       "      <th>4</th>\n",
       "      <td>chinese</td>\n",
       "      <td>VZqEzifhvtYAxkWw6AuiCg</td>\n",
       "      <td>Lanzhou Noodle Bar</td>\n",
       "      <td>3</td>\n",
       "      <td>It's a small and cramped little hole in the wa...</td>\n",
       "      <td>-1</td>\n",
       "    </tr>\n",
       "  </tbody>\n",
       "</table>\n",
       "</div>"
      ],
      "text/plain": [
       "  category                      id                name  rating  \\\n",
       "0  chinese  VZqEzifhvtYAxkWw6AuiCg  Lanzhou Noodle Bar       5   \n",
       "1  chinese  VZqEzifhvtYAxkWw6AuiCg  Lanzhou Noodle Bar       5   \n",
       "2  chinese  VZqEzifhvtYAxkWw6AuiCg  Lanzhou Noodle Bar       5   \n",
       "3  chinese  VZqEzifhvtYAxkWw6AuiCg  Lanzhou Noodle Bar       5   \n",
       "4  chinese  VZqEzifhvtYAxkWw6AuiCg  Lanzhou Noodle Bar       3   \n",
       "\n",
       "                                              review  sentiment  \n",
       "0  Let's be real here...London...and noodles?? Ye...          1  \n",
       "1  Who goes to London and has Chinese food? Me of...          1  \n",
       "2  My family and I visited London for a few days ...          1  \n",
       "3  This place is so unassuming and very easy to p...          1  \n",
       "4  It's a small and cramped little hole in the wa...         -1  "
      ]
     },
     "execution_count": 237,
     "metadata": {},
     "output_type": "execute_result"
    }
   ],
   "source": [
    "## concact with the original test csv file and further translate into JSON file\n",
    "cn = pd.read_csv('./data/df_test_chinese.csv') \n",
    "cn_score = pd.read_csv('./test_result/chinese_result 3.csv') \n",
    "cn.head()"
   ]
  },
  {
   "cell_type": "code",
   "execution_count": 238,
   "metadata": {},
   "outputs": [
    {
     "data": {
      "text/html": [
       "<div>\n",
       "<style scoped>\n",
       "    .dataframe tbody tr th:only-of-type {\n",
       "        vertical-align: middle;\n",
       "    }\n",
       "\n",
       "    .dataframe tbody tr th {\n",
       "        vertical-align: top;\n",
       "    }\n",
       "\n",
       "    .dataframe thead th {\n",
       "        text-align: right;\n",
       "    }\n",
       "</style>\n",
       "<table border=\"1\" class=\"dataframe\">\n",
       "  <thead>\n",
       "    <tr style=\"text-align: right;\">\n",
       "      <th></th>\n",
       "      <th>Unnamed: 0</th>\n",
       "      <th>actual</th>\n",
       "      <th>nb</th>\n",
       "      <th>svm</th>\n",
       "    </tr>\n",
       "  </thead>\n",
       "  <tbody>\n",
       "    <tr>\n",
       "      <th>0</th>\n",
       "      <td>0</td>\n",
       "      <td>1</td>\n",
       "      <td>1</td>\n",
       "      <td>1</td>\n",
       "    </tr>\n",
       "    <tr>\n",
       "      <th>1</th>\n",
       "      <td>1</td>\n",
       "      <td>1</td>\n",
       "      <td>1</td>\n",
       "      <td>1</td>\n",
       "    </tr>\n",
       "    <tr>\n",
       "      <th>2</th>\n",
       "      <td>2</td>\n",
       "      <td>1</td>\n",
       "      <td>1</td>\n",
       "      <td>1</td>\n",
       "    </tr>\n",
       "    <tr>\n",
       "      <th>3</th>\n",
       "      <td>3</td>\n",
       "      <td>1</td>\n",
       "      <td>1</td>\n",
       "      <td>1</td>\n",
       "    </tr>\n",
       "    <tr>\n",
       "      <th>4</th>\n",
       "      <td>4</td>\n",
       "      <td>-1</td>\n",
       "      <td>1</td>\n",
       "      <td>1</td>\n",
       "    </tr>\n",
       "  </tbody>\n",
       "</table>\n",
       "</div>"
      ],
      "text/plain": [
       "   Unnamed: 0  actual  nb  svm\n",
       "0           0       1   1    1\n",
       "1           1       1   1    1\n",
       "2           2       1   1    1\n",
       "3           3       1   1    1\n",
       "4           4      -1   1    1"
      ]
     },
     "execution_count": 238,
     "metadata": {},
     "output_type": "execute_result"
    }
   ],
   "source": [
    "cn_score.head()"
   ]
  },
  {
   "cell_type": "code",
   "execution_count": 239,
   "metadata": {
    "scrolled": true
   },
   "outputs": [
    {
     "data": {
      "text/html": [
       "<div>\n",
       "<style scoped>\n",
       "    .dataframe tbody tr th:only-of-type {\n",
       "        vertical-align: middle;\n",
       "    }\n",
       "\n",
       "    .dataframe tbody tr th {\n",
       "        vertical-align: top;\n",
       "    }\n",
       "\n",
       "    .dataframe thead th {\n",
       "        text-align: right;\n",
       "    }\n",
       "</style>\n",
       "<table border=\"1\" class=\"dataframe\">\n",
       "  <thead>\n",
       "    <tr style=\"text-align: right;\">\n",
       "      <th></th>\n",
       "      <th>category</th>\n",
       "      <th>id</th>\n",
       "      <th>name</th>\n",
       "      <th>rating</th>\n",
       "      <th>review</th>\n",
       "      <th>sentiment</th>\n",
       "      <th>svm_score</th>\n",
       "      <th>naive_bayes_score</th>\n",
       "    </tr>\n",
       "  </thead>\n",
       "  <tbody>\n",
       "    <tr>\n",
       "      <th>0</th>\n",
       "      <td>chinese</td>\n",
       "      <td>VZqEzifhvtYAxkWw6AuiCg</td>\n",
       "      <td>Lanzhou Noodle Bar</td>\n",
       "      <td>5</td>\n",
       "      <td>Let's be real here...London...and noodles?? Ye...</td>\n",
       "      <td>1</td>\n",
       "      <td>1</td>\n",
       "      <td>1</td>\n",
       "    </tr>\n",
       "    <tr>\n",
       "      <th>1</th>\n",
       "      <td>chinese</td>\n",
       "      <td>VZqEzifhvtYAxkWw6AuiCg</td>\n",
       "      <td>Lanzhou Noodle Bar</td>\n",
       "      <td>5</td>\n",
       "      <td>Who goes to London and has Chinese food? Me of...</td>\n",
       "      <td>1</td>\n",
       "      <td>1</td>\n",
       "      <td>1</td>\n",
       "    </tr>\n",
       "    <tr>\n",
       "      <th>2</th>\n",
       "      <td>chinese</td>\n",
       "      <td>VZqEzifhvtYAxkWw6AuiCg</td>\n",
       "      <td>Lanzhou Noodle Bar</td>\n",
       "      <td>5</td>\n",
       "      <td>My family and I visited London for a few days ...</td>\n",
       "      <td>1</td>\n",
       "      <td>1</td>\n",
       "      <td>1</td>\n",
       "    </tr>\n",
       "    <tr>\n",
       "      <th>3</th>\n",
       "      <td>chinese</td>\n",
       "      <td>VZqEzifhvtYAxkWw6AuiCg</td>\n",
       "      <td>Lanzhou Noodle Bar</td>\n",
       "      <td>5</td>\n",
       "      <td>This place is so unassuming and very easy to p...</td>\n",
       "      <td>1</td>\n",
       "      <td>1</td>\n",
       "      <td>1</td>\n",
       "    </tr>\n",
       "    <tr>\n",
       "      <th>4</th>\n",
       "      <td>chinese</td>\n",
       "      <td>VZqEzifhvtYAxkWw6AuiCg</td>\n",
       "      <td>Lanzhou Noodle Bar</td>\n",
       "      <td>3</td>\n",
       "      <td>It's a small and cramped little hole in the wa...</td>\n",
       "      <td>-1</td>\n",
       "      <td>1</td>\n",
       "      <td>1</td>\n",
       "    </tr>\n",
       "  </tbody>\n",
       "</table>\n",
       "</div>"
      ],
      "text/plain": [
       "  category                      id                name  rating  \\\n",
       "0  chinese  VZqEzifhvtYAxkWw6AuiCg  Lanzhou Noodle Bar       5   \n",
       "1  chinese  VZqEzifhvtYAxkWw6AuiCg  Lanzhou Noodle Bar       5   \n",
       "2  chinese  VZqEzifhvtYAxkWw6AuiCg  Lanzhou Noodle Bar       5   \n",
       "3  chinese  VZqEzifhvtYAxkWw6AuiCg  Lanzhou Noodle Bar       5   \n",
       "4  chinese  VZqEzifhvtYAxkWw6AuiCg  Lanzhou Noodle Bar       3   \n",
       "\n",
       "                                              review  sentiment  svm_score  \\\n",
       "0  Let's be real here...London...and noodles?? Ye...          1          1   \n",
       "1  Who goes to London and has Chinese food? Me of...          1          1   \n",
       "2  My family and I visited London for a few days ...          1          1   \n",
       "3  This place is so unassuming and very easy to p...          1          1   \n",
       "4  It's a small and cramped little hole in the wa...         -1          1   \n",
       "\n",
       "   naive_bayes_score  \n",
       "0                  1  \n",
       "1                  1  \n",
       "2                  1  \n",
       "3                  1  \n",
       "4                  1  "
      ]
     },
     "execution_count": 239,
     "metadata": {},
     "output_type": "execute_result"
    }
   ],
   "source": [
    "cn['svm_score']=cn_score['svm']\n",
    "cn['naive_bayes_score']=cn_score['nb']\n",
    "cn.to_csv('Chinese_test_final.csv')\n",
    "cn.head()"
   ]
  },
  {
   "attachments": {
    "result.png": {
     "image/png": "[encoded data removed]"
    }
   },
   "cell_type": "markdown",
   "metadata": {},
   "source": [
    "## conclusion \n",
    "We test the 4 categories of resturants using 3 types of models: model trained with only scraped data; scraped data combined with the standard data; negation combined data.\n",
    "\n",
    "We measure the overall accuracy and the model trained with negation data performs best among the 3 types (both on SVN and Naive Bayes).Then we save the best one to the csv and generate the JSON format.\n",
    "![result.png](attachment:result.png)\n",
    "The conclusion of the test result are the followings:\n",
    "1) from the overall accuracy ,we can tell that using the preprocessed data ,the model is robust and thus we can yield much better result on the test data.\n",
    "2) as for the Chinese resturant , because there are some Chinese words can not be indentified ,so the overall accuracy not performs well compared with other 3 types of resturants.\n",
    "3) for the sentiment score , negation plays very improtant role and yile the best result by implementing negation into the preprocess data."
   ]
  },
  {
   "cell_type": "code",
   "execution_count": null,
   "metadata": {},
   "outputs": [],
   "source": []
  }
 ],
 "metadata": {
  "kernelspec": {
   "display_name": "Python 3",
   "language": "python",
   "name": "python3"
  },
  "language_info": {
   "codemirror_mode": {
    "name": "ipython",
    "version": 3
   },
   "file_extension": ".py",
   "mimetype": "text/x-python",
   "name": "python",
   "nbconvert_exporter": "python",
   "pygments_lexer": "ipython3",
   "version": "3.6.6"
  }
 },
 "nbformat": 4,
 "nbformat_minor": 2
}
