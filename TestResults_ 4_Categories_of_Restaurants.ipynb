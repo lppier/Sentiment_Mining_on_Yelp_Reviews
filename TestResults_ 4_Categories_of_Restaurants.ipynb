{
 "cells": [
  {
   "cell_type": "code",
   "execution_count": 1,
   "metadata": {},
   "outputs": [
    {
     "name": "stdout",
     "output_type": "stream",
     "text": [
      "/Users/davidleonardi/Projects/EB5204_Sentiment_Mining_CA\r\n"
     ]
    }
   ],
   "source": [
    "!pwd\n",
    "import pickle as pk\n",
    "import pandas as pd\n",
    "from sklearn.feature_extraction.text import TfidfVectorizer\n",
    "from sklearn.metrics import classification_report, confusion_matrix\n",
    "from sklearn.metrics import accuracy_score"
   ]
  },
  {
   "cell_type": "code",
   "execution_count": 2,
   "metadata": {},
   "outputs": [
    {
     "data": {
      "text/html": [
       "<div>\n",
       "<style scoped>\n",
       "    .dataframe tbody tr th:only-of-type {\n",
       "        vertical-align: middle;\n",
       "    }\n",
       "\n",
       "    .dataframe tbody tr th {\n",
       "        vertical-align: top;\n",
       "    }\n",
       "\n",
       "    .dataframe thead th {\n",
       "        text-align: right;\n",
       "    }\n",
       "</style>\n",
       "<table border=\"1\" class=\"dataframe\">\n",
       "  <thead>\n",
       "    <tr style=\"text-align: right;\">\n",
       "      <th></th>\n",
       "      <th>category</th>\n",
       "      <th>id</th>\n",
       "      <th>name</th>\n",
       "      <th>rating</th>\n",
       "      <th>review</th>\n",
       "      <th>sentiment</th>\n",
       "    </tr>\n",
       "  </thead>\n",
       "  <tbody>\n",
       "    <tr>\n",
       "      <th>0</th>\n",
       "      <td>japanese</td>\n",
       "      <td>4c4AG8gZ73-qHLzaWk-pRA</td>\n",
       "      <td>Zuma</td>\n",
       "      <td>5</td>\n",
       "      <td>We were back this July and made a point of ret...</td>\n",
       "      <td>1</td>\n",
       "    </tr>\n",
       "    <tr>\n",
       "      <th>1</th>\n",
       "      <td>japanese</td>\n",
       "      <td>4c4AG8gZ73-qHLzaWk-pRA</td>\n",
       "      <td>Zuma</td>\n",
       "      <td>4</td>\n",
       "      <td>Zuma has maintained it's consistency in food q...</td>\n",
       "      <td>1</td>\n",
       "    </tr>\n",
       "    <tr>\n",
       "      <th>2</th>\n",
       "      <td>japanese</td>\n",
       "      <td>4c4AG8gZ73-qHLzaWk-pRA</td>\n",
       "      <td>Zuma</td>\n",
       "      <td>4</td>\n",
       "      <td>The sushi and dishes here are spectacular. Bla...</td>\n",
       "      <td>1</td>\n",
       "    </tr>\n",
       "    <tr>\n",
       "      <th>3</th>\n",
       "      <td>japanese</td>\n",
       "      <td>4c4AG8gZ73-qHLzaWk-pRA</td>\n",
       "      <td>Zuma</td>\n",
       "      <td>2</td>\n",
       "      <td>In short, over-rated.I apologize if I'm gong t...</td>\n",
       "      <td>-1</td>\n",
       "    </tr>\n",
       "    <tr>\n",
       "      <th>4</th>\n",
       "      <td>japanese</td>\n",
       "      <td>4c4AG8gZ73-qHLzaWk-pRA</td>\n",
       "      <td>Zuma</td>\n",
       "      <td>5</td>\n",
       "      <td>Cool / fancy place to have some great japanese...</td>\n",
       "      <td>1</td>\n",
       "    </tr>\n",
       "  </tbody>\n",
       "</table>\n",
       "</div>"
      ],
      "text/plain": [
       "   category                      id  name  rating  \\\n",
       "0  japanese  4c4AG8gZ73-qHLzaWk-pRA  Zuma       5   \n",
       "1  japanese  4c4AG8gZ73-qHLzaWk-pRA  Zuma       4   \n",
       "2  japanese  4c4AG8gZ73-qHLzaWk-pRA  Zuma       4   \n",
       "3  japanese  4c4AG8gZ73-qHLzaWk-pRA  Zuma       2   \n",
       "4  japanese  4c4AG8gZ73-qHLzaWk-pRA  Zuma       5   \n",
       "\n",
       "                                              review  sentiment  \n",
       "0  We were back this July and made a point of ret...          1  \n",
       "1  Zuma has maintained it's consistency in food q...          1  \n",
       "2  The sushi and dishes here are spectacular. Bla...          1  \n",
       "3  In short, over-rated.I apologize if I'm gong t...         -1  \n",
       "4  Cool / fancy place to have some great japanese...          1  "
      ]
     },
     "execution_count": 2,
     "metadata": {},
     "output_type": "execute_result"
    }
   ],
   "source": [
    "dfCN = pd.read_csv('./data/df_test_chinese.csv')\n",
    "dfFR = pd.read_csv('./data/df_test_french.csv')\n",
    "dfIN = pd.read_csv('./data/df_test_indian.csv')\n",
    "dfJP = pd.read_csv('./data/df_test_japanese.csv')\n",
    "dfJP.head()\n"
   ]
  },
  {
   "cell_type": "code",
   "execution_count": 3,
   "metadata": {},
   "outputs": [
    {
     "data": {
      "text/html": [
       "<div>\n",
       "<style scoped>\n",
       "    .dataframe tbody tr th:only-of-type {\n",
       "        vertical-align: middle;\n",
       "    }\n",
       "\n",
       "    .dataframe tbody tr th {\n",
       "        vertical-align: top;\n",
       "    }\n",
       "\n",
       "    .dataframe thead th {\n",
       "        text-align: right;\n",
       "    }\n",
       "</style>\n",
       "<table border=\"1\" class=\"dataframe\">\n",
       "  <thead>\n",
       "    <tr style=\"text-align: right;\">\n",
       "      <th></th>\n",
       "      <th>review</th>\n",
       "      <th>sentiment</th>\n",
       "    </tr>\n",
       "  </thead>\n",
       "  <tbody>\n",
       "    <tr>\n",
       "      <th>0</th>\n",
       "      <td>We were back this July and made a point of ret...</td>\n",
       "      <td>1</td>\n",
       "    </tr>\n",
       "    <tr>\n",
       "      <th>1</th>\n",
       "      <td>Zuma has maintained it's consistency in food q...</td>\n",
       "      <td>1</td>\n",
       "    </tr>\n",
       "    <tr>\n",
       "      <th>2</th>\n",
       "      <td>The sushi and dishes here are spectacular. Bla...</td>\n",
       "      <td>1</td>\n",
       "    </tr>\n",
       "    <tr>\n",
       "      <th>3</th>\n",
       "      <td>In short, over-rated.I apologize if I'm gong t...</td>\n",
       "      <td>-1</td>\n",
       "    </tr>\n",
       "    <tr>\n",
       "      <th>4</th>\n",
       "      <td>Cool / fancy place to have some great japanese...</td>\n",
       "      <td>1</td>\n",
       "    </tr>\n",
       "  </tbody>\n",
       "</table>\n",
       "</div>"
      ],
      "text/plain": [
       "                                              review  sentiment\n",
       "0  We were back this July and made a point of ret...          1\n",
       "1  Zuma has maintained it's consistency in food q...          1\n",
       "2  The sushi and dishes here are spectacular. Bla...          1\n",
       "3  In short, over-rated.I apologize if I'm gong t...         -1\n",
       "4  Cool / fancy place to have some great japanese...          1"
      ]
     },
     "execution_count": 3,
     "metadata": {},
     "output_type": "execute_result"
    }
   ],
   "source": [
    "dfCN.drop(['category', 'id', 'name', 'rating'], inplace=True, axis=1)\n",
    "dfFR.drop(['category', 'id', 'name', 'rating'], inplace=True, axis=1)\n",
    "dfIN.drop(['category', 'id', 'name', 'rating'], inplace=True, axis=1)\n",
    "dfJP.drop(['category', 'id', 'name', 'rating'], inplace=True, axis=1)\n",
    "dfJP.head()"
   ]
  },
  {
   "cell_type": "code",
   "execution_count": 4,
   "metadata": {},
   "outputs": [
    {
     "name": "stdout",
     "output_type": "stream",
     "text": [
      "650\n",
      "980\n",
      "1369\n",
      "552\n"
     ]
    }
   ],
   "source": [
    "testCN = dfCN['review']\n",
    "testFR = dfFR['review']\n",
    "testIN = dfIN['review']\n",
    "testJP = dfJP['review']\n",
    "testCN_lab = dfCN['sentiment']\n",
    "testFR_lab = dfFR['sentiment']\n",
    "testIN_lab = dfIN['sentiment']\n",
    "testJP_lab = dfJP['sentiment']\n",
    "print(len(testCN_lab))\n",
    "print(len(testFR_lab))\n",
    "print(len(testIN_lab))\n",
    "print(len(testJP_lab))"
   ]
  },
  {
   "cell_type": "code",
   "execution_count": 5,
   "metadata": {},
   "outputs": [
    {
     "name": "stderr",
     "output_type": "stream",
     "text": [
      "/Users/davidleonardi/anaconda3/lib/python3.7/site-packages/sklearn/base.py:311: UserWarning: Trying to unpickle estimator TfidfTransformer from version 0.19.1 when using version 0.19.2. This might lead to breaking code or invalid results. Use at your own risk.\n",
      "  UserWarning)\n",
      "/Users/davidleonardi/anaconda3/lib/python3.7/site-packages/sklearn/base.py:311: UserWarning: Trying to unpickle estimator TfidfVectorizer from version 0.19.1 when using version 0.19.2. This might lead to breaking code or invalid results. Use at your own risk.\n",
      "  UserWarning)\n"
     ]
    },
    {
     "name": "stdout",
     "output_type": "stream",
     "text": [
      "(650, 16332)\n",
      "(980, 16332)\n",
      "(1369, 16332)\n",
      "(552, 16332)\n"
     ]
    }
   ],
   "source": [
    "with open('./models/vectorise.pk', 'rb') as vectorizer:\n",
    "    vectorizer = pk.load(vectorizer)\n",
    "test_vectorsCN = vectorizer.transform(testCN)\n",
    "test_vectorsFR = vectorizer.transform(testFR)\n",
    "test_vectorsIN = vectorizer.transform(testIN)\n",
    "test_vectorsJP = vectorizer.transform(testJP)\n",
    "print(test_vectorsCN.shape)\n",
    "print(test_vectorsFR.shape)\n",
    "print(test_vectorsIN.shape)\n",
    "print(test_vectorsJP.shape)"
   ]
  },
  {
   "cell_type": "code",
   "execution_count": 6,
   "metadata": {},
   "outputs": [
    {
     "name": "stderr",
     "output_type": "stream",
     "text": [
      "/Users/davidleonardi/anaconda3/lib/python3.7/site-packages/sklearn/base.py:311: UserWarning: Trying to unpickle estimator MultinomialNB from version 0.19.1 when using version 0.19.2. This might lead to breaking code or invalid results. Use at your own risk.\n",
      "  UserWarning)\n"
     ]
    }
   ],
   "source": [
    "# load naivebayes\n",
    "with open('./models/classifier_naivebayes.pk', 'rb') as naivebayes:\n",
    "    model1 = pk.load(naivebayes)\n",
    "    predCN_na = model1.predict(test_vectorsCN)\n",
    "    predFR_na = model1.predict(test_vectorsFR)\n",
    "    predIN_na = model1.predict(test_vectorsIN)\n",
    "    predJP_na = model1.predict(test_vectorsJP)\n",
    "    predCN_na = list(predCN_na)\n",
    "    predFR_na = list(predFR_na)\n",
    "    predIN_na = list(predIN_na)\n",
    "    predJP_na = list(predJP_na)\n",
    "    cmCN_na = pd.crosstab(pd.Series(testCN_lab), pd.Series(predCN_na), rownames= ['actuals'], colnames=['pred'],margins=True)\n",
    "    cmFR_na = pd.crosstab(pd.Series(testFR_lab), pd.Series(predFR_na), rownames= ['actuals'], colnames=['pred'],margins=True)\n",
    "    cmIN_na = pd.crosstab(pd.Series(testIN_lab), pd.Series(predIN_na), rownames= ['actuals'], colnames=['pred'],margins=True)\n",
    "    cmJP_na = pd.crosstab(pd.Series(testJP_lab), pd.Series(predJP_na), rownames= ['actuals'], colnames=['pred'],margins=True)"
   ]
  },
  {
   "cell_type": "code",
   "execution_count": 7,
   "metadata": {},
   "outputs": [
    {
     "data": {
      "text/html": [
       "<div>\n",
       "<style scoped>\n",
       "    .dataframe tbody tr th:only-of-type {\n",
       "        vertical-align: middle;\n",
       "    }\n",
       "\n",
       "    .dataframe tbody tr th {\n",
       "        vertical-align: top;\n",
       "    }\n",
       "\n",
       "    .dataframe thead th {\n",
       "        text-align: right;\n",
       "    }\n",
       "</style>\n",
       "<table border=\"1\" class=\"dataframe\">\n",
       "  <thead>\n",
       "    <tr style=\"text-align: right;\">\n",
       "      <th>pred</th>\n",
       "      <th>-1</th>\n",
       "      <th>1</th>\n",
       "      <th>All</th>\n",
       "    </tr>\n",
       "    <tr>\n",
       "      <th>actuals</th>\n",
       "      <th></th>\n",
       "      <th></th>\n",
       "      <th></th>\n",
       "    </tr>\n",
       "  </thead>\n",
       "  <tbody>\n",
       "    <tr>\n",
       "      <th>-1</th>\n",
       "      <td>158</td>\n",
       "      <td>80</td>\n",
       "      <td>238</td>\n",
       "    </tr>\n",
       "    <tr>\n",
       "      <th>1</th>\n",
       "      <td>33</td>\n",
       "      <td>379</td>\n",
       "      <td>412</td>\n",
       "    </tr>\n",
       "    <tr>\n",
       "      <th>All</th>\n",
       "      <td>191</td>\n",
       "      <td>459</td>\n",
       "      <td>650</td>\n",
       "    </tr>\n",
       "  </tbody>\n",
       "</table>\n",
       "</div>"
      ],
      "text/plain": [
       "pred      -1    1  All\n",
       "actuals               \n",
       "-1       158   80  238\n",
       "1         33  379  412\n",
       "All      191  459  650"
      ]
     },
     "execution_count": 7,
     "metadata": {},
     "output_type": "execute_result"
    }
   ],
   "source": [
    "cmCN_na"
   ]
  },
  {
   "cell_type": "code",
   "execution_count": 8,
   "metadata": {},
   "outputs": [
    {
     "name": "stdout",
     "output_type": "stream",
     "text": [
      "             precision    recall  f1-score   support\n",
      "\n",
      "         -1       0.66      0.83      0.74       191\n",
      "          1       0.92      0.83      0.87       459\n",
      "\n",
      "avg / total       0.84      0.83      0.83       650\n",
      "\n",
      "0.8261538461538461\n"
     ]
    }
   ],
   "source": [
    "print (classification_report(predCN_na,  testCN_lab))\n",
    "print (accuracy_score(predCN_na, testCN_lab))"
   ]
  },
  {
   "cell_type": "code",
   "execution_count": 9,
   "metadata": {},
   "outputs": [
    {
     "data": {
      "text/html": [
       "<div>\n",
       "<style scoped>\n",
       "    .dataframe tbody tr th:only-of-type {\n",
       "        vertical-align: middle;\n",
       "    }\n",
       "\n",
       "    .dataframe tbody tr th {\n",
       "        vertical-align: top;\n",
       "    }\n",
       "\n",
       "    .dataframe thead th {\n",
       "        text-align: right;\n",
       "    }\n",
       "</style>\n",
       "<table border=\"1\" class=\"dataframe\">\n",
       "  <thead>\n",
       "    <tr style=\"text-align: right;\">\n",
       "      <th>pred</th>\n",
       "      <th>-1</th>\n",
       "      <th>1</th>\n",
       "      <th>All</th>\n",
       "    </tr>\n",
       "    <tr>\n",
       "      <th>actuals</th>\n",
       "      <th></th>\n",
       "      <th></th>\n",
       "      <th></th>\n",
       "    </tr>\n",
       "  </thead>\n",
       "  <tbody>\n",
       "    <tr>\n",
       "      <th>-1</th>\n",
       "      <td>144</td>\n",
       "      <td>74</td>\n",
       "      <td>218</td>\n",
       "    </tr>\n",
       "    <tr>\n",
       "      <th>1</th>\n",
       "      <td>40</td>\n",
       "      <td>722</td>\n",
       "      <td>762</td>\n",
       "    </tr>\n",
       "    <tr>\n",
       "      <th>All</th>\n",
       "      <td>184</td>\n",
       "      <td>796</td>\n",
       "      <td>980</td>\n",
       "    </tr>\n",
       "  </tbody>\n",
       "</table>\n",
       "</div>"
      ],
      "text/plain": [
       "pred      -1    1  All\n",
       "actuals               \n",
       "-1       144   74  218\n",
       "1         40  722  762\n",
       "All      184  796  980"
      ]
     },
     "execution_count": 9,
     "metadata": {},
     "output_type": "execute_result"
    }
   ],
   "source": [
    "cmFR_na"
   ]
  },
  {
   "cell_type": "code",
   "execution_count": 10,
   "metadata": {},
   "outputs": [
    {
     "name": "stdout",
     "output_type": "stream",
     "text": [
      "             precision    recall  f1-score   support\n",
      "\n",
      "         -1       0.66      0.78      0.72       184\n",
      "          1       0.95      0.91      0.93       796\n",
      "\n",
      "avg / total       0.89      0.88      0.89       980\n",
      "\n",
      "0.8836734693877552\n"
     ]
    }
   ],
   "source": [
    "print (classification_report(predFR_na,  testFR_lab))\n",
    "print (accuracy_score(predFR_na, testFR_lab))"
   ]
  },
  {
   "cell_type": "code",
   "execution_count": 11,
   "metadata": {},
   "outputs": [
    {
     "data": {
      "text/html": [
       "<div>\n",
       "<style scoped>\n",
       "    .dataframe tbody tr th:only-of-type {\n",
       "        vertical-align: middle;\n",
       "    }\n",
       "\n",
       "    .dataframe tbody tr th {\n",
       "        vertical-align: top;\n",
       "    }\n",
       "\n",
       "    .dataframe thead th {\n",
       "        text-align: right;\n",
       "    }\n",
       "</style>\n",
       "<table border=\"1\" class=\"dataframe\">\n",
       "  <thead>\n",
       "    <tr style=\"text-align: right;\">\n",
       "      <th>pred</th>\n",
       "      <th>-1</th>\n",
       "      <th>1</th>\n",
       "      <th>All</th>\n",
       "    </tr>\n",
       "    <tr>\n",
       "      <th>actuals</th>\n",
       "      <th></th>\n",
       "      <th></th>\n",
       "      <th></th>\n",
       "    </tr>\n",
       "  </thead>\n",
       "  <tbody>\n",
       "    <tr>\n",
       "      <th>-1</th>\n",
       "      <td>135</td>\n",
       "      <td>133</td>\n",
       "      <td>268</td>\n",
       "    </tr>\n",
       "    <tr>\n",
       "      <th>1</th>\n",
       "      <td>39</td>\n",
       "      <td>1062</td>\n",
       "      <td>1101</td>\n",
       "    </tr>\n",
       "    <tr>\n",
       "      <th>All</th>\n",
       "      <td>174</td>\n",
       "      <td>1195</td>\n",
       "      <td>1369</td>\n",
       "    </tr>\n",
       "  </tbody>\n",
       "</table>\n",
       "</div>"
      ],
      "text/plain": [
       "pred      -1     1   All\n",
       "actuals                 \n",
       "-1       135   133   268\n",
       "1         39  1062  1101\n",
       "All      174  1195  1369"
      ]
     },
     "execution_count": 11,
     "metadata": {},
     "output_type": "execute_result"
    }
   ],
   "source": [
    "cmIN_na"
   ]
  },
  {
   "cell_type": "code",
   "execution_count": 12,
   "metadata": {},
   "outputs": [
    {
     "name": "stdout",
     "output_type": "stream",
     "text": [
      "             precision    recall  f1-score   support\n",
      "\n",
      "         -1       0.50      0.78      0.61       174\n",
      "          1       0.96      0.89      0.93      1195\n",
      "\n",
      "avg / total       0.91      0.87      0.89      1369\n",
      "\n",
      "0.8743608473338204\n"
     ]
    }
   ],
   "source": [
    "print (classification_report(predIN_na,  testIN_lab))\n",
    "print (accuracy_score(predIN_na, testIN_lab))"
   ]
  },
  {
   "cell_type": "code",
   "execution_count": 13,
   "metadata": {},
   "outputs": [
    {
     "data": {
      "text/html": [
       "<div>\n",
       "<style scoped>\n",
       "    .dataframe tbody tr th:only-of-type {\n",
       "        vertical-align: middle;\n",
       "    }\n",
       "\n",
       "    .dataframe tbody tr th {\n",
       "        vertical-align: top;\n",
       "    }\n",
       "\n",
       "    .dataframe thead th {\n",
       "        text-align: right;\n",
       "    }\n",
       "</style>\n",
       "<table border=\"1\" class=\"dataframe\">\n",
       "  <thead>\n",
       "    <tr style=\"text-align: right;\">\n",
       "      <th>pred</th>\n",
       "      <th>-1</th>\n",
       "      <th>1</th>\n",
       "      <th>All</th>\n",
       "    </tr>\n",
       "    <tr>\n",
       "      <th>actuals</th>\n",
       "      <th></th>\n",
       "      <th></th>\n",
       "      <th></th>\n",
       "    </tr>\n",
       "  </thead>\n",
       "  <tbody>\n",
       "    <tr>\n",
       "      <th>-1</th>\n",
       "      <td>81</td>\n",
       "      <td>43</td>\n",
       "      <td>124</td>\n",
       "    </tr>\n",
       "    <tr>\n",
       "      <th>1</th>\n",
       "      <td>35</td>\n",
       "      <td>393</td>\n",
       "      <td>428</td>\n",
       "    </tr>\n",
       "    <tr>\n",
       "      <th>All</th>\n",
       "      <td>116</td>\n",
       "      <td>436</td>\n",
       "      <td>552</td>\n",
       "    </tr>\n",
       "  </tbody>\n",
       "</table>\n",
       "</div>"
      ],
      "text/plain": [
       "pred      -1    1  All\n",
       "actuals               \n",
       "-1        81   43  124\n",
       "1         35  393  428\n",
       "All      116  436  552"
      ]
     },
     "execution_count": 13,
     "metadata": {},
     "output_type": "execute_result"
    }
   ],
   "source": [
    "cmJP_na"
   ]
  },
  {
   "cell_type": "code",
   "execution_count": 14,
   "metadata": {},
   "outputs": [
    {
     "name": "stdout",
     "output_type": "stream",
     "text": [
      "             precision    recall  f1-score   support\n",
      "\n",
      "         -1       0.65      0.70      0.68       116\n",
      "          1       0.92      0.90      0.91       436\n",
      "\n",
      "avg / total       0.86      0.86      0.86       552\n",
      "\n",
      "0.8586956521739131\n"
     ]
    }
   ],
   "source": [
    "print (classification_report(predJP_na,  testJP_lab))\n",
    "print (accuracy_score(predJP_na, testJP_lab))"
   ]
  },
  {
   "cell_type": "code",
   "execution_count": 15,
   "metadata": {},
   "outputs": [
    {
     "name": "stderr",
     "output_type": "stream",
     "text": [
      "/Users/davidleonardi/anaconda3/lib/python3.7/site-packages/sklearn/base.py:311: UserWarning: Trying to unpickle estimator SVC from version 0.19.1 when using version 0.19.2. This might lead to breaking code or invalid results. Use at your own risk.\n",
      "  UserWarning)\n"
     ]
    }
   ],
   "source": [
    "# load SVM\n",
    "with open('./models/classifier_svm.pk', 'rb') as svm:\n",
    "    model2 = pk.load(svm)\n",
    "    predCN_svm = model2.predict(test_vectorsCN)\n",
    "    predFR_svm = model2.predict(test_vectorsFR)\n",
    "    predIN_svm = model2.predict(test_vectorsIN)\n",
    "    predJP_svm = model2.predict(test_vectorsJP)\n",
    "    predCN_svm = list(predCN_svm)\n",
    "    predFR_svm = list(predFR_svm)\n",
    "    predIN_svm = list(predIN_svm)\n",
    "    predJP_svm = list(predJP_svm)\n",
    "    cmCN_svm = pd.crosstab(pd.Series(testCN_lab), pd.Series(predCN_svm), rownames= ['actuals'], colnames=['pred'],margins=True)\n",
    "    cmFR_svm = pd.crosstab(pd.Series(testFR_lab), pd.Series(predFR_svm), rownames= ['actuals'], colnames=['pred'],margins=True)\n",
    "    cmIN_svm = pd.crosstab(pd.Series(testIN_lab), pd.Series(predIN_svm), rownames= ['actuals'], colnames=['pred'],margins=True)\n",
    "    cmJP_svm = pd.crosstab(pd.Series(testJP_lab), pd.Series(predJP_svm), rownames= ['actuals'], colnames=['pred'],margins=True)"
   ]
  },
  {
   "cell_type": "code",
   "execution_count": 16,
   "metadata": {},
   "outputs": [
    {
     "data": {
      "text/html": [
       "<div>\n",
       "<style scoped>\n",
       "    .dataframe tbody tr th:only-of-type {\n",
       "        vertical-align: middle;\n",
       "    }\n",
       "\n",
       "    .dataframe tbody tr th {\n",
       "        vertical-align: top;\n",
       "    }\n",
       "\n",
       "    .dataframe thead th {\n",
       "        text-align: right;\n",
       "    }\n",
       "</style>\n",
       "<table border=\"1\" class=\"dataframe\">\n",
       "  <thead>\n",
       "    <tr style=\"text-align: right;\">\n",
       "      <th>pred</th>\n",
       "      <th>-1</th>\n",
       "      <th>1</th>\n",
       "      <th>All</th>\n",
       "    </tr>\n",
       "    <tr>\n",
       "      <th>actuals</th>\n",
       "      <th></th>\n",
       "      <th></th>\n",
       "      <th></th>\n",
       "    </tr>\n",
       "  </thead>\n",
       "  <tbody>\n",
       "    <tr>\n",
       "      <th>-1</th>\n",
       "      <td>195</td>\n",
       "      <td>43</td>\n",
       "      <td>238</td>\n",
       "    </tr>\n",
       "    <tr>\n",
       "      <th>1</th>\n",
       "      <td>60</td>\n",
       "      <td>352</td>\n",
       "      <td>412</td>\n",
       "    </tr>\n",
       "    <tr>\n",
       "      <th>All</th>\n",
       "      <td>255</td>\n",
       "      <td>395</td>\n",
       "      <td>650</td>\n",
       "    </tr>\n",
       "  </tbody>\n",
       "</table>\n",
       "</div>"
      ],
      "text/plain": [
       "pred      -1    1  All\n",
       "actuals               \n",
       "-1       195   43  238\n",
       "1         60  352  412\n",
       "All      255  395  650"
      ]
     },
     "execution_count": 16,
     "metadata": {},
     "output_type": "execute_result"
    }
   ],
   "source": [
    "cmCN_svm"
   ]
  },
  {
   "cell_type": "code",
   "execution_count": 17,
   "metadata": {},
   "outputs": [
    {
     "name": "stdout",
     "output_type": "stream",
     "text": [
      "             precision    recall  f1-score   support\n",
      "\n",
      "         -1       0.82      0.76      0.79       255\n",
      "          1       0.85      0.89      0.87       395\n",
      "\n",
      "avg / total       0.84      0.84      0.84       650\n",
      "\n",
      "0.8415384615384616\n"
     ]
    }
   ],
   "source": [
    "print (classification_report(predCN_svm,  testCN_lab))\n",
    "print (accuracy_score(predCN_svm, testCN_lab))"
   ]
  },
  {
   "cell_type": "code",
   "execution_count": 18,
   "metadata": {},
   "outputs": [
    {
     "data": {
      "text/html": [
       "<div>\n",
       "<style scoped>\n",
       "    .dataframe tbody tr th:only-of-type {\n",
       "        vertical-align: middle;\n",
       "    }\n",
       "\n",
       "    .dataframe tbody tr th {\n",
       "        vertical-align: top;\n",
       "    }\n",
       "\n",
       "    .dataframe thead th {\n",
       "        text-align: right;\n",
       "    }\n",
       "</style>\n",
       "<table border=\"1\" class=\"dataframe\">\n",
       "  <thead>\n",
       "    <tr style=\"text-align: right;\">\n",
       "      <th>pred</th>\n",
       "      <th>-1</th>\n",
       "      <th>1</th>\n",
       "      <th>All</th>\n",
       "    </tr>\n",
       "    <tr>\n",
       "      <th>actuals</th>\n",
       "      <th></th>\n",
       "      <th></th>\n",
       "      <th></th>\n",
       "    </tr>\n",
       "  </thead>\n",
       "  <tbody>\n",
       "    <tr>\n",
       "      <th>-1</th>\n",
       "      <td>164</td>\n",
       "      <td>54</td>\n",
       "      <td>218</td>\n",
       "    </tr>\n",
       "    <tr>\n",
       "      <th>1</th>\n",
       "      <td>67</td>\n",
       "      <td>695</td>\n",
       "      <td>762</td>\n",
       "    </tr>\n",
       "    <tr>\n",
       "      <th>All</th>\n",
       "      <td>231</td>\n",
       "      <td>749</td>\n",
       "      <td>980</td>\n",
       "    </tr>\n",
       "  </tbody>\n",
       "</table>\n",
       "</div>"
      ],
      "text/plain": [
       "pred      -1    1  All\n",
       "actuals               \n",
       "-1       164   54  218\n",
       "1         67  695  762\n",
       "All      231  749  980"
      ]
     },
     "execution_count": 18,
     "metadata": {},
     "output_type": "execute_result"
    }
   ],
   "source": [
    "cmFR_svm"
   ]
  },
  {
   "cell_type": "code",
   "execution_count": 19,
   "metadata": {},
   "outputs": [
    {
     "name": "stdout",
     "output_type": "stream",
     "text": [
      "             precision    recall  f1-score   support\n",
      "\n",
      "         -1       0.75      0.71      0.73       231\n",
      "          1       0.91      0.93      0.92       749\n",
      "\n",
      "avg / total       0.87      0.88      0.88       980\n",
      "\n",
      "0.8765306122448979\n"
     ]
    }
   ],
   "source": [
    "print (classification_report(predFR_svm,  testFR_lab))\n",
    "print (accuracy_score(predFR_svm, testFR_lab))"
   ]
  },
  {
   "cell_type": "code",
   "execution_count": 20,
   "metadata": {},
   "outputs": [
    {
     "data": {
      "text/html": [
       "<div>\n",
       "<style scoped>\n",
       "    .dataframe tbody tr th:only-of-type {\n",
       "        vertical-align: middle;\n",
       "    }\n",
       "\n",
       "    .dataframe tbody tr th {\n",
       "        vertical-align: top;\n",
       "    }\n",
       "\n",
       "    .dataframe thead th {\n",
       "        text-align: right;\n",
       "    }\n",
       "</style>\n",
       "<table border=\"1\" class=\"dataframe\">\n",
       "  <thead>\n",
       "    <tr style=\"text-align: right;\">\n",
       "      <th>pred</th>\n",
       "      <th>-1</th>\n",
       "      <th>1</th>\n",
       "      <th>All</th>\n",
       "    </tr>\n",
       "    <tr>\n",
       "      <th>actuals</th>\n",
       "      <th></th>\n",
       "      <th></th>\n",
       "      <th></th>\n",
       "    </tr>\n",
       "  </thead>\n",
       "  <tbody>\n",
       "    <tr>\n",
       "      <th>-1</th>\n",
       "      <td>190</td>\n",
       "      <td>78</td>\n",
       "      <td>268</td>\n",
       "    </tr>\n",
       "    <tr>\n",
       "      <th>1</th>\n",
       "      <td>65</td>\n",
       "      <td>1036</td>\n",
       "      <td>1101</td>\n",
       "    </tr>\n",
       "    <tr>\n",
       "      <th>All</th>\n",
       "      <td>255</td>\n",
       "      <td>1114</td>\n",
       "      <td>1369</td>\n",
       "    </tr>\n",
       "  </tbody>\n",
       "</table>\n",
       "</div>"
      ],
      "text/plain": [
       "pred      -1     1   All\n",
       "actuals                 \n",
       "-1       190    78   268\n",
       "1         65  1036  1101\n",
       "All      255  1114  1369"
      ]
     },
     "execution_count": 20,
     "metadata": {},
     "output_type": "execute_result"
    }
   ],
   "source": [
    "cmIN_svm"
   ]
  },
  {
   "cell_type": "code",
   "execution_count": 21,
   "metadata": {},
   "outputs": [
    {
     "name": "stdout",
     "output_type": "stream",
     "text": [
      "             precision    recall  f1-score   support\n",
      "\n",
      "         -1       0.71      0.75      0.73       255\n",
      "          1       0.94      0.93      0.94      1114\n",
      "\n",
      "avg / total       0.90      0.90      0.90      1369\n",
      "\n",
      "0.8955441928414901\n"
     ]
    }
   ],
   "source": [
    "print (classification_report(predIN_svm,  testIN_lab))\n",
    "print (accuracy_score(predIN_svm, testIN_lab))"
   ]
  },
  {
   "cell_type": "code",
   "execution_count": 22,
   "metadata": {},
   "outputs": [
    {
     "data": {
      "text/html": [
       "<div>\n",
       "<style scoped>\n",
       "    .dataframe tbody tr th:only-of-type {\n",
       "        vertical-align: middle;\n",
       "    }\n",
       "\n",
       "    .dataframe tbody tr th {\n",
       "        vertical-align: top;\n",
       "    }\n",
       "\n",
       "    .dataframe thead th {\n",
       "        text-align: right;\n",
       "    }\n",
       "</style>\n",
       "<table border=\"1\" class=\"dataframe\">\n",
       "  <thead>\n",
       "    <tr style=\"text-align: right;\">\n",
       "      <th>pred</th>\n",
       "      <th>-1</th>\n",
       "      <th>1</th>\n",
       "      <th>All</th>\n",
       "    </tr>\n",
       "    <tr>\n",
       "      <th>actuals</th>\n",
       "      <th></th>\n",
       "      <th></th>\n",
       "      <th></th>\n",
       "    </tr>\n",
       "  </thead>\n",
       "  <tbody>\n",
       "    <tr>\n",
       "      <th>-1</th>\n",
       "      <td>96</td>\n",
       "      <td>28</td>\n",
       "      <td>124</td>\n",
       "    </tr>\n",
       "    <tr>\n",
       "      <th>1</th>\n",
       "      <td>49</td>\n",
       "      <td>379</td>\n",
       "      <td>428</td>\n",
       "    </tr>\n",
       "    <tr>\n",
       "      <th>All</th>\n",
       "      <td>145</td>\n",
       "      <td>407</td>\n",
       "      <td>552</td>\n",
       "    </tr>\n",
       "  </tbody>\n",
       "</table>\n",
       "</div>"
      ],
      "text/plain": [
       "pred      -1    1  All\n",
       "actuals               \n",
       "-1        96   28  124\n",
       "1         49  379  428\n",
       "All      145  407  552"
      ]
     },
     "execution_count": 22,
     "metadata": {},
     "output_type": "execute_result"
    }
   ],
   "source": [
    "cmJP_svm"
   ]
  },
  {
   "cell_type": "code",
   "execution_count": 23,
   "metadata": {},
   "outputs": [
    {
     "name": "stdout",
     "output_type": "stream",
     "text": [
      "             precision    recall  f1-score   support\n",
      "\n",
      "         -1       0.77      0.66      0.71       145\n",
      "          1       0.89      0.93      0.91       407\n",
      "\n",
      "avg / total       0.86      0.86      0.86       552\n",
      "\n",
      "0.8605072463768116\n"
     ]
    }
   ],
   "source": [
    "print (classification_report(predJP_svm,  testJP_lab))\n",
    "print (accuracy_score(predJP_svm, testJP_lab))"
   ]
  },
  {
   "cell_type": "code",
   "execution_count": null,
   "metadata": {},
   "outputs": [],
   "source": []
  }
 ],
 "metadata": {
  "kernelspec": {
   "display_name": "Python 3",
   "language": "python",
   "name": "python3"
  },
  "language_info": {
   "codemirror_mode": {
    "name": "ipython",
    "version": 3
   },
   "file_extension": ".py",
   "mimetype": "text/x-python",
   "name": "python",
   "nbconvert_exporter": "python",
   "pygments_lexer": "ipython3",
   "version": "3.7.0"
  }
 },
 "nbformat": 4,
 "nbformat_minor": 2
}
