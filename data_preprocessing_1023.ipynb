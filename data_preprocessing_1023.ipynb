{
 "cells": [
  {
   "cell_type": "code",
   "execution_count": 10,
   "metadata": {},
   "outputs": [],
   "source": [
    "#!pwd\n",
    "import pandas as pd\n",
    "import os\n",
    "import string\n",
    "from nltk.corpus import stopwords\n",
    "from nltk import word_tokenize, WordNetLemmatizer\n",
    "from nltk import stem, pos_tag\n",
    "from nltk.corpus import wordnet as wn\n",
    "from sklearn.feature_extraction.text import CountVectorizer, TfidfVectorizer"
   ]
  },
  {
   "cell_type": "code",
   "execution_count": 11,
   "metadata": {},
   "outputs": [],
   "source": [
    "df = pd.read_csv('/Users/Jill/Documents/New Media and Sentiment Analysis/CA/EB5204_Sentiment_Mining_CA/data/df_reviews_train.csv')\n",
    "df.head()\n",
    "ffile1 = open(\"/Users/Jill/Documents/New Media and Sentiment Analysis/CA/EB5204_Sentiment_Mining_CA/data/train.csv\",\"r\", encoding = \"ISO-8859-1\")\n",
    "df_standard = pd.read_csv(ffile1, encoding = \"utf-8\")\n",
    "df_standard.drop(['restaurant_id', 'date', 'review_id'], inplace=True, axis=1)\n",
    "df_standard.rename(columns={'text': 'review', 'Sentiment': 'sentiment'}, inplace=True)\n",
    "df_standard.head()\n",
    "\n",
    "mask = df_standard.sentiment == 'negative'\n",
    "column_name = 'sentiment'\n",
    "df_standard.loc[mask, column_name] = -1\n",
    "mask = df_standard.sentiment == 'positive'\n",
    "column_name = 'sentiment'\n",
    "df_standard.loc[mask, column_name] = 1\n",
    "df_standard = df_standard.rename(columns = {'stars':'rating'})\n",
    "df_standard.head()\n",
    "\n",
    "df = pd.concat([df, df_standard], axis=0)\n",
    "df = df.reset_index().drop('index', axis=1)"
   ]
  },
  {
   "cell_type": "code",
   "execution_count": 12,
   "metadata": {},
   "outputs": [],
   "source": [
    "ratings = df['rating']\n",
    "sentiments = df['sentiment']\n",
    "reviews = df['review']"
   ]
  },
  {
   "cell_type": "code",
   "execution_count": 13,
   "metadata": {},
   "outputs": [
    {
     "data": {
      "text/html": [
       "<div>\n",
       "<style scoped>\n",
       "    .dataframe tbody tr th:only-of-type {\n",
       "        vertical-align: middle;\n",
       "    }\n",
       "\n",
       "    .dataframe tbody tr th {\n",
       "        vertical-align: top;\n",
       "    }\n",
       "\n",
       "    .dataframe thead th {\n",
       "        text-align: right;\n",
       "    }\n",
       "</style>\n",
       "<table border=\"1\" class=\"dataframe\">\n",
       "  <thead>\n",
       "    <tr style=\"text-align: right;\">\n",
       "      <th></th>\n",
       "      <th>rating</th>\n",
       "      <th>review</th>\n",
       "      <th>sentiment</th>\n",
       "    </tr>\n",
       "  </thead>\n",
       "  <tbody>\n",
       "    <tr>\n",
       "      <th>0</th>\n",
       "      <td>5</td>\n",
       "      <td>In my younger days when lunch choices consiste...</td>\n",
       "      <td>1</td>\n",
       "    </tr>\n",
       "    <tr>\n",
       "      <th>1</th>\n",
       "      <td>3</td>\n",
       "      <td>After going through yelp and tripadvisor, I wa...</td>\n",
       "      <td>-1</td>\n",
       "    </tr>\n",
       "    <tr>\n",
       "      <th>2</th>\n",
       "      <td>5</td>\n",
       "      <td>Ordered Sichuan Prawns and Singapore Rice Nood...</td>\n",
       "      <td>1</td>\n",
       "    </tr>\n",
       "    <tr>\n",
       "      <th>3</th>\n",
       "      <td>3</td>\n",
       "      <td>Wong Kei is one of the many options you'll fin...</td>\n",
       "      <td>-1</td>\n",
       "    </tr>\n",
       "    <tr>\n",
       "      <th>4</th>\n",
       "      <td>1</td>\n",
       "      <td>One of the worst experience in a restaurant in...</td>\n",
       "      <td>-1</td>\n",
       "    </tr>\n",
       "  </tbody>\n",
       "</table>\n",
       "</div>"
      ],
      "text/plain": [
       "   rating                                             review  sentiment\n",
       "0       5  In my younger days when lunch choices consiste...          1\n",
       "1       3  After going through yelp and tripadvisor, I wa...         -1\n",
       "2       5  Ordered Sichuan Prawns and Singapore Rice Nood...          1\n",
       "3       3  Wong Kei is one of the many options you'll fin...         -1\n",
       "4       1  One of the worst experience in a restaurant in...         -1"
      ]
     },
     "execution_count": 13,
     "metadata": {},
     "output_type": "execute_result"
    }
   ],
   "source": [
    "sentiment_trans = []\n",
    "for r in ratings.keys():\n",
    "    rating = ratings.loc[r]\n",
    "    sentiment = sentiments.loc[r]\n",
    "    sentiment = int(sentiment)\n",
    "    if rating <= 3:\n",
    "        sentiment = -1\n",
    "    else:\n",
    "        sentiment = sentiment\n",
    "    sentiment_trans.insert(r, sentiment)\n",
    "sentiments = pd.Series(sentiment_trans, index=ratings.keys())\n",
    "\n",
    "df = pd.concat([ratings, reviews, sentiments], axis = 1)\n",
    "df.columns = ['rating', 'review', 'sentiment']\n",
    "df.head()"
   ]
  },
  {
   "cell_type": "code",
   "execution_count": 14,
   "metadata": {},
   "outputs": [],
   "source": [
    "stop = stopwords.words('english')\n",
    "snowball = stem.snowball.EnglishStemmer()\n",
    "wnl = WordNetLemmatizer()\n",
    "reviews = df['review']"
   ]
  },
  {
   "cell_type": "code",
   "execution_count": 15,
   "metadata": {},
   "outputs": [],
   "source": [
    "# Remove all the punctuations and numbers\n",
    "def removePunc(reviews):\n",
    "    comwoPunc = str.maketrans({key: None for key in string.punctuation\n",
    "                               + string.digits})\n",
    "    for i in reviews.keys():\n",
    "        comment = reviews.loc[i]\n",
    "        reviewswoPunc = reviews.replace(comment, comment.translate(comwoPunc))\n",
    "    return reviewswoPunc"
   ]
  },
  {
   "cell_type": "code",
   "execution_count": 16,
   "metadata": {},
   "outputs": [],
   "source": [
    "# Convert all characters to Lower case\n",
    "def convToLow(words):\n",
    "    reviewsToLow = words.apply(str.lower)\n",
    "    return reviewsToLow"
   ]
  },
  {
   "cell_type": "code",
   "execution_count": 17,
   "metadata": {},
   "outputs": [],
   "source": [
    "# Stopwords removal\n",
    "def removeStop(text, stop):\n",
    "    for i in text.keys():\n",
    "        comment = text.loc[i]\n",
    "        comment_nostop = \" \".join(filter(lambda word: word not in stop,\n",
    "                                     comment.split()))\n",
    "        reviewswoStop = text.replace(comment, comment_nostop)\n",
    "    return reviewswoStop"
   ]
  },
  {
   "cell_type": "code",
   "execution_count": 18,
   "metadata": {},
   "outputs": [],
   "source": [
    "# Tokenization\n",
    "def token(text):\n",
    "    reviewsToken = text.apply(word_tokenize)\n",
    "    return reviewsToken"
   ]
  },
  {
   "cell_type": "code",
   "execution_count": 19,
   "metadata": {},
   "outputs": [],
   "source": [
    "# pos tagging\n",
    "def posTag(words):\n",
    "    reviews_pos = words.apply(pos_tag)\n",
    "    reviews_wnpos = []\n",
    "    for i in reviews_pos.keys():\n",
    "        comment = reviews_pos.loc[i]\n",
    "        comment_wnpos = []\n",
    "        for t in comment:\n",
    "            t = list(t)\n",
    "            tag = t[1]\n",
    "            if t[1].startswith('J'):\n",
    "                t[1] = wn.ADJ\n",
    "            elif t[1].startswith('V'):\n",
    "                t[1] = wn.VERB\n",
    "            elif t[1].startswith('N'):\n",
    "                t[1] = wn.NOUN\n",
    "            elif t[1].startswith('R'):\n",
    "                t[1] = wn.ADV\n",
    "            else:\n",
    "                del t\n",
    "                t = None\n",
    "            if t is not None:\n",
    "                comment_wnpos.append(t)\n",
    "            else:\n",
    "                pass\n",
    "        reviews_wnpos.append(comment_wnpos)\n",
    "    reviews_wnpos = pd.Series(reviews_wnpos, index=reviews_pos.keys())\n",
    "    return reviews_wnpos"
   ]
  },
  {
   "cell_type": "code",
   "execution_count": 20,
   "metadata": {},
   "outputs": [],
   "source": [
    "# Lemmatization\n",
    "def lemma(text, wnl):\n",
    "    reviews_lem = []\n",
    "    for i in text.keys():\n",
    "        comment = text.loc[i]\n",
    "        comment_lem = []\n",
    "        for t in comment:\n",
    "            word = t[0]\n",
    "            tag = t[1]\n",
    "            t = wnl.lemmatize(word, pos=tag)\n",
    "            comment_lem.append(t)\n",
    "        reviews_lem.append(comment_lem)\n",
    "    allReviews = []\n",
    "    for j in reviews_lem:\n",
    "        reviews = ' '.join(j)\n",
    "        allReviews.append(reviews)\n",
    "    reviewsLemma = pd.Series(allReviews, index=text.keys())\n",
    "    return reviewsLemma"
   ]
  },
  {
   "cell_type": "code",
   "execution_count": null,
   "metadata": {},
   "outputs": [],
   "source": [
    "if __name__  == '__main__':\n",
    "    reviews = removePunc(reviews)\n",
    "    reviews = convToLow(reviews)\n",
    "    reviews = removeStop(reviews, stop)\n",
    "    reviews = token(reviews)\n",
    "    reviews = posTag(reviews)\n",
    "    final_reviews = lemma(reviews,wnl)\n",
    "    ratings = df['rating']\n",
    "    sentiments = df['sentiment']\n",
    "    df = pd.concat([ratings, final_reviews, sentiments], axis = 1)\n",
    "    df.columns = ['rating', 'review', 'sentiment']\n",
    "    df.to_csv('/Users/Jill/Documents/New Media and Sentiment Analysis/CA/EB5204_Sentiment_Mining_CA/data/df_preprocessing.csv', encoding='utf-8')"
   ]
  }
 ],
 "metadata": {
  "kernelspec": {
   "display_name": "Python [default]",
   "language": "python",
   "name": "python3"
  },
  "language_info": {
   "codemirror_mode": {
    "name": "ipython",
    "version": 3
   },
   "file_extension": ".py",
   "mimetype": "text/x-python",
   "name": "python",
   "nbconvert_exporter": "python",
   "pygments_lexer": "ipython3",
   "version": "3.6.6"
  }
 },
 "nbformat": 4,
 "nbformat_minor": 2
}
